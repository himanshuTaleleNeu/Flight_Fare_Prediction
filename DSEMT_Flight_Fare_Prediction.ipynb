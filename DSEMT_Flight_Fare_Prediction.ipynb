{
  "cells": [
    {
      "cell_type": "markdown",
      "metadata": {
        "id": "view-in-github",
        "colab_type": "text"
      },
      "source": [
        "<a href=\"https://colab.research.google.com/github/prathameshwalinu/Flight_Fare_Prediction/blob/main/DSEMT_Flight_Fare_Prediction.ipynb\" target=\"_parent\"><img src=\"https://colab.research.google.com/assets/colab-badge.svg\" alt=\"Open In Colab\"/></a>"
      ]
    },
    {
      "cell_type": "code",
      "execution_count": 1,
      "metadata": {
        "id": "o4vY6UyeHvzU"
      },
      "outputs": [],
      "source": [
        "import os\n",
        "import pandas as pd"
      ]
    },
    {
      "cell_type": "code",
      "execution_count": 2,
      "metadata": {
        "colab": {
          "base_uri": "https://localhost:8080/"
        },
        "id": "tzK40wHC0_lC",
        "outputId": "6396ddb8-de56-454f-d58f-da1efbae9925"
      },
      "outputs": [
        {
          "output_type": "stream",
          "name": "stdout",
          "text": [
            "<class 'pandas.core.frame.DataFrame'>\n",
            "RangeIndex: 7613643 entries, 0 to 7613642\n",
            "Data columns (total 13 columns):\n",
            " #   Column             Dtype  \n",
            "---  ------             -----  \n",
            " 0   ItinID             int64  \n",
            " 1   MktID              int64  \n",
            " 2   MktCoupons         int64  \n",
            " 3   Quarter            int64  \n",
            " 4   Origin             object \n",
            " 5   OriginWac          int64  \n",
            " 6   Dest               object \n",
            " 7   DestWac            int64  \n",
            " 8   Miles              float64\n",
            " 9   ContiguousUSA      int64  \n",
            " 10  NumTicketsOrdered  float64\n",
            " 11  AirlineCompany     object \n",
            " 12  PricePerTicket     float64\n",
            "dtypes: float64(3), int64(7), object(3)\n",
            "memory usage: 755.1+ MB\n"
          ]
        }
      ],
      "source": [
        "flights = pd.read_csv('https://media.githubusercontent.com/media/prathameshwalinu/Flight_Fare_Prediction/main/Cleaned_data.csv')\n",
        "flights.info()"
      ]
    },
    {
      "cell_type": "code",
      "execution_count": 3,
      "metadata": {
        "colab": {
          "base_uri": "https://localhost:8080/",
          "height": 424
        },
        "id": "NV4SeHHsAZmZ",
        "outputId": "1cfc25cb-843b-484b-d49d-9a1d61b3fcc9"
      },
      "outputs": [
        {
          "output_type": "execute_result",
          "data": {
            "text/plain": [
              "         Quarter Origin  OriginWac Dest  DestWac   Miles  ContiguousUSA  \\\n",
              "0              1    PHL         23  LAX       91  2402.0              2   \n",
              "1              1    LAX         91  PHL       23  2402.0              2   \n",
              "2              1    PHL         23  LAX       91  2402.0              2   \n",
              "3              1    LAX         91  PHL       23  2402.0              2   \n",
              "4              1    PHL         23  LAX       91  2402.0              2   \n",
              "...          ...    ...        ...  ...      ...     ...            ...   \n",
              "7613638        4    JFK         22  SFO       91  2586.0              2   \n",
              "7613639        4    JFK         22  SFO       91  2586.0              2   \n",
              "7613640        4    JFK         22  SFO       91  2586.0              2   \n",
              "7613641        4    JFK         22  SFO       91  2586.0              2   \n",
              "7613642        4    JFK         22  SFO       91  2586.0              2   \n",
              "\n",
              "         NumTicketsOrdered AirlineCompany  PricePerTicket  \n",
              "0                      3.0             AA           64.00  \n",
              "1                      2.0             AA           68.50  \n",
              "2                      2.0             AA           68.50  \n",
              "3                      3.0             AA           70.50  \n",
              "4                      3.0             AA           70.50  \n",
              "...                    ...            ...             ...  \n",
              "7613638                1.0             AS          119.59  \n",
              "7613639                1.0             AS          120.50  \n",
              "7613640                1.0             AS          133.69  \n",
              "7613641                1.0             AS          196.89  \n",
              "7613642                1.0             AS          654.80  \n",
              "\n",
              "[7613643 rows x 10 columns]"
            ],
            "text/html": [
              "\n",
              "  <div id=\"df-1f2103c1-893a-4896-84db-b5dc9f086611\">\n",
              "    <div class=\"colab-df-container\">\n",
              "      <div>\n",
              "<style scoped>\n",
              "    .dataframe tbody tr th:only-of-type {\n",
              "        vertical-align: middle;\n",
              "    }\n",
              "\n",
              "    .dataframe tbody tr th {\n",
              "        vertical-align: top;\n",
              "    }\n",
              "\n",
              "    .dataframe thead th {\n",
              "        text-align: right;\n",
              "    }\n",
              "</style>\n",
              "<table border=\"1\" class=\"dataframe\">\n",
              "  <thead>\n",
              "    <tr style=\"text-align: right;\">\n",
              "      <th></th>\n",
              "      <th>Quarter</th>\n",
              "      <th>Origin</th>\n",
              "      <th>OriginWac</th>\n",
              "      <th>Dest</th>\n",
              "      <th>DestWac</th>\n",
              "      <th>Miles</th>\n",
              "      <th>ContiguousUSA</th>\n",
              "      <th>NumTicketsOrdered</th>\n",
              "      <th>AirlineCompany</th>\n",
              "      <th>PricePerTicket</th>\n",
              "    </tr>\n",
              "  </thead>\n",
              "  <tbody>\n",
              "    <tr>\n",
              "      <th>0</th>\n",
              "      <td>1</td>\n",
              "      <td>PHL</td>\n",
              "      <td>23</td>\n",
              "      <td>LAX</td>\n",
              "      <td>91</td>\n",
              "      <td>2402.0</td>\n",
              "      <td>2</td>\n",
              "      <td>3.0</td>\n",
              "      <td>AA</td>\n",
              "      <td>64.00</td>\n",
              "    </tr>\n",
              "    <tr>\n",
              "      <th>1</th>\n",
              "      <td>1</td>\n",
              "      <td>LAX</td>\n",
              "      <td>91</td>\n",
              "      <td>PHL</td>\n",
              "      <td>23</td>\n",
              "      <td>2402.0</td>\n",
              "      <td>2</td>\n",
              "      <td>2.0</td>\n",
              "      <td>AA</td>\n",
              "      <td>68.50</td>\n",
              "    </tr>\n",
              "    <tr>\n",
              "      <th>2</th>\n",
              "      <td>1</td>\n",
              "      <td>PHL</td>\n",
              "      <td>23</td>\n",
              "      <td>LAX</td>\n",
              "      <td>91</td>\n",
              "      <td>2402.0</td>\n",
              "      <td>2</td>\n",
              "      <td>2.0</td>\n",
              "      <td>AA</td>\n",
              "      <td>68.50</td>\n",
              "    </tr>\n",
              "    <tr>\n",
              "      <th>3</th>\n",
              "      <td>1</td>\n",
              "      <td>LAX</td>\n",
              "      <td>91</td>\n",
              "      <td>PHL</td>\n",
              "      <td>23</td>\n",
              "      <td>2402.0</td>\n",
              "      <td>2</td>\n",
              "      <td>3.0</td>\n",
              "      <td>AA</td>\n",
              "      <td>70.50</td>\n",
              "    </tr>\n",
              "    <tr>\n",
              "      <th>4</th>\n",
              "      <td>1</td>\n",
              "      <td>PHL</td>\n",
              "      <td>23</td>\n",
              "      <td>LAX</td>\n",
              "      <td>91</td>\n",
              "      <td>2402.0</td>\n",
              "      <td>2</td>\n",
              "      <td>3.0</td>\n",
              "      <td>AA</td>\n",
              "      <td>70.50</td>\n",
              "    </tr>\n",
              "    <tr>\n",
              "      <th>...</th>\n",
              "      <td>...</td>\n",
              "      <td>...</td>\n",
              "      <td>...</td>\n",
              "      <td>...</td>\n",
              "      <td>...</td>\n",
              "      <td>...</td>\n",
              "      <td>...</td>\n",
              "      <td>...</td>\n",
              "      <td>...</td>\n",
              "      <td>...</td>\n",
              "    </tr>\n",
              "    <tr>\n",
              "      <th>7613638</th>\n",
              "      <td>4</td>\n",
              "      <td>JFK</td>\n",
              "      <td>22</td>\n",
              "      <td>SFO</td>\n",
              "      <td>91</td>\n",
              "      <td>2586.0</td>\n",
              "      <td>2</td>\n",
              "      <td>1.0</td>\n",
              "      <td>AS</td>\n",
              "      <td>119.59</td>\n",
              "    </tr>\n",
              "    <tr>\n",
              "      <th>7613639</th>\n",
              "      <td>4</td>\n",
              "      <td>JFK</td>\n",
              "      <td>22</td>\n",
              "      <td>SFO</td>\n",
              "      <td>91</td>\n",
              "      <td>2586.0</td>\n",
              "      <td>2</td>\n",
              "      <td>1.0</td>\n",
              "      <td>AS</td>\n",
              "      <td>120.50</td>\n",
              "    </tr>\n",
              "    <tr>\n",
              "      <th>7613640</th>\n",
              "      <td>4</td>\n",
              "      <td>JFK</td>\n",
              "      <td>22</td>\n",
              "      <td>SFO</td>\n",
              "      <td>91</td>\n",
              "      <td>2586.0</td>\n",
              "      <td>2</td>\n",
              "      <td>1.0</td>\n",
              "      <td>AS</td>\n",
              "      <td>133.69</td>\n",
              "    </tr>\n",
              "    <tr>\n",
              "      <th>7613641</th>\n",
              "      <td>4</td>\n",
              "      <td>JFK</td>\n",
              "      <td>22</td>\n",
              "      <td>SFO</td>\n",
              "      <td>91</td>\n",
              "      <td>2586.0</td>\n",
              "      <td>2</td>\n",
              "      <td>1.0</td>\n",
              "      <td>AS</td>\n",
              "      <td>196.89</td>\n",
              "    </tr>\n",
              "    <tr>\n",
              "      <th>7613642</th>\n",
              "      <td>4</td>\n",
              "      <td>JFK</td>\n",
              "      <td>22</td>\n",
              "      <td>SFO</td>\n",
              "      <td>91</td>\n",
              "      <td>2586.0</td>\n",
              "      <td>2</td>\n",
              "      <td>1.0</td>\n",
              "      <td>AS</td>\n",
              "      <td>654.80</td>\n",
              "    </tr>\n",
              "  </tbody>\n",
              "</table>\n",
              "<p>7613643 rows × 10 columns</p>\n",
              "</div>\n",
              "      <button class=\"colab-df-convert\" onclick=\"convertToInteractive('df-1f2103c1-893a-4896-84db-b5dc9f086611')\"\n",
              "              title=\"Convert this dataframe to an interactive table.\"\n",
              "              style=\"display:none;\">\n",
              "        \n",
              "  <svg xmlns=\"http://www.w3.org/2000/svg\" height=\"24px\"viewBox=\"0 0 24 24\"\n",
              "       width=\"24px\">\n",
              "    <path d=\"M0 0h24v24H0V0z\" fill=\"none\"/>\n",
              "    <path d=\"M18.56 5.44l.94 2.06.94-2.06 2.06-.94-2.06-.94-.94-2.06-.94 2.06-2.06.94zm-11 1L8.5 8.5l.94-2.06 2.06-.94-2.06-.94L8.5 2.5l-.94 2.06-2.06.94zm10 10l.94 2.06.94-2.06 2.06-.94-2.06-.94-.94-2.06-.94 2.06-2.06.94z\"/><path d=\"M17.41 7.96l-1.37-1.37c-.4-.4-.92-.59-1.43-.59-.52 0-1.04.2-1.43.59L10.3 9.45l-7.72 7.72c-.78.78-.78 2.05 0 2.83L4 21.41c.39.39.9.59 1.41.59.51 0 1.02-.2 1.41-.59l7.78-7.78 2.81-2.81c.8-.78.8-2.07 0-2.86zM5.41 20L4 18.59l7.72-7.72 1.47 1.35L5.41 20z\"/>\n",
              "  </svg>\n",
              "      </button>\n",
              "      \n",
              "  <style>\n",
              "    .colab-df-container {\n",
              "      display:flex;\n",
              "      flex-wrap:wrap;\n",
              "      gap: 12px;\n",
              "    }\n",
              "\n",
              "    .colab-df-convert {\n",
              "      background-color: #E8F0FE;\n",
              "      border: none;\n",
              "      border-radius: 50%;\n",
              "      cursor: pointer;\n",
              "      display: none;\n",
              "      fill: #1967D2;\n",
              "      height: 32px;\n",
              "      padding: 0 0 0 0;\n",
              "      width: 32px;\n",
              "    }\n",
              "\n",
              "    .colab-df-convert:hover {\n",
              "      background-color: #E2EBFA;\n",
              "      box-shadow: 0px 1px 2px rgba(60, 64, 67, 0.3), 0px 1px 3px 1px rgba(60, 64, 67, 0.15);\n",
              "      fill: #174EA6;\n",
              "    }\n",
              "\n",
              "    [theme=dark] .colab-df-convert {\n",
              "      background-color: #3B4455;\n",
              "      fill: #D2E3FC;\n",
              "    }\n",
              "\n",
              "    [theme=dark] .colab-df-convert:hover {\n",
              "      background-color: #434B5C;\n",
              "      box-shadow: 0px 1px 3px 1px rgba(0, 0, 0, 0.15);\n",
              "      filter: drop-shadow(0px 1px 2px rgba(0, 0, 0, 0.3));\n",
              "      fill: #FFFFFF;\n",
              "    }\n",
              "  </style>\n",
              "\n",
              "      <script>\n",
              "        const buttonEl =\n",
              "          document.querySelector('#df-1f2103c1-893a-4896-84db-b5dc9f086611 button.colab-df-convert');\n",
              "        buttonEl.style.display =\n",
              "          google.colab.kernel.accessAllowed ? 'block' : 'none';\n",
              "\n",
              "        async function convertToInteractive(key) {\n",
              "          const element = document.querySelector('#df-1f2103c1-893a-4896-84db-b5dc9f086611');\n",
              "          const dataTable =\n",
              "            await google.colab.kernel.invokeFunction('convertToInteractive',\n",
              "                                                     [key], {});\n",
              "          if (!dataTable) return;\n",
              "\n",
              "          const docLinkHtml = 'Like what you see? Visit the ' +\n",
              "            '<a target=\"_blank\" href=https://colab.research.google.com/notebooks/data_table.ipynb>data table notebook</a>'\n",
              "            + ' to learn more about interactive tables.';\n",
              "          element.innerHTML = '';\n",
              "          dataTable['output_type'] = 'display_data';\n",
              "          await google.colab.output.renderOutput(dataTable, element);\n",
              "          const docLink = document.createElement('div');\n",
              "          docLink.innerHTML = docLinkHtml;\n",
              "          element.appendChild(docLink);\n",
              "        }\n",
              "      </script>\n",
              "    </div>\n",
              "  </div>\n",
              "  "
            ]
          },
          "metadata": {},
          "execution_count": 3
        }
      ],
      "source": [
        "flights = flights.drop(['ItinID', 'MktCoupons', 'MktID'], axis=1)\n",
        "flights"
      ]
    },
    {
      "cell_type": "code",
      "execution_count": 4,
      "metadata": {
        "colab": {
          "base_uri": "https://localhost:8080/",
          "height": 325
        },
        "id": "SiYdlyl4AbPe",
        "outputId": "bae9fb50-2100-4175-dc18-1f8ff43dfc40"
      },
      "outputs": [
        {
          "output_type": "stream",
          "name": "stderr",
          "text": [
            "<ipython-input-4-083931cd990c>:2: FutureWarning: The default value of numeric_only in DataFrame.corr is deprecated. In a future version, it will default to False. Select only valid columns or specify the value of numeric_only to silence this warning.\n",
            "  flights.corr(method='pearson')\n"
          ]
        },
        {
          "output_type": "execute_result",
          "data": {
            "text/plain": [
              "                    Quarter  OriginWac   DestWac     Miles  ContiguousUSA  \\\n",
              "Quarter            1.000000   0.021077  0.021361 -0.018353       0.027347   \n",
              "OriginWac          0.021077   1.000000  0.121855 -0.020422       0.222902   \n",
              "DestWac            0.021361   0.121855  1.000000 -0.019799       0.224160   \n",
              "Miles             -0.018353  -0.020422 -0.019799  1.000000      -0.409319   \n",
              "ContiguousUSA      0.027347   0.222902  0.224160 -0.409319       1.000000   \n",
              "NumTicketsOrdered -0.014315  -0.010337 -0.010827 -0.027975      -0.003400   \n",
              "PricePerTicket     0.072110  -0.009163 -0.011196  0.358581      -0.152352   \n",
              "\n",
              "                   NumTicketsOrdered  PricePerTicket  \n",
              "Quarter                    -0.014315        0.072110  \n",
              "OriginWac                  -0.010337       -0.009163  \n",
              "DestWac                    -0.010827       -0.011196  \n",
              "Miles                      -0.027975        0.358581  \n",
              "ContiguousUSA              -0.003400       -0.152352  \n",
              "NumTicketsOrdered           1.000000       -0.153306  \n",
              "PricePerTicket             -0.153306        1.000000  "
            ],
            "text/html": [
              "\n",
              "  <div id=\"df-13fd6ee1-47a4-4203-af59-22f97873dfdc\">\n",
              "    <div class=\"colab-df-container\">\n",
              "      <div>\n",
              "<style scoped>\n",
              "    .dataframe tbody tr th:only-of-type {\n",
              "        vertical-align: middle;\n",
              "    }\n",
              "\n",
              "    .dataframe tbody tr th {\n",
              "        vertical-align: top;\n",
              "    }\n",
              "\n",
              "    .dataframe thead th {\n",
              "        text-align: right;\n",
              "    }\n",
              "</style>\n",
              "<table border=\"1\" class=\"dataframe\">\n",
              "  <thead>\n",
              "    <tr style=\"text-align: right;\">\n",
              "      <th></th>\n",
              "      <th>Quarter</th>\n",
              "      <th>OriginWac</th>\n",
              "      <th>DestWac</th>\n",
              "      <th>Miles</th>\n",
              "      <th>ContiguousUSA</th>\n",
              "      <th>NumTicketsOrdered</th>\n",
              "      <th>PricePerTicket</th>\n",
              "    </tr>\n",
              "  </thead>\n",
              "  <tbody>\n",
              "    <tr>\n",
              "      <th>Quarter</th>\n",
              "      <td>1.000000</td>\n",
              "      <td>0.021077</td>\n",
              "      <td>0.021361</td>\n",
              "      <td>-0.018353</td>\n",
              "      <td>0.027347</td>\n",
              "      <td>-0.014315</td>\n",
              "      <td>0.072110</td>\n",
              "    </tr>\n",
              "    <tr>\n",
              "      <th>OriginWac</th>\n",
              "      <td>0.021077</td>\n",
              "      <td>1.000000</td>\n",
              "      <td>0.121855</td>\n",
              "      <td>-0.020422</td>\n",
              "      <td>0.222902</td>\n",
              "      <td>-0.010337</td>\n",
              "      <td>-0.009163</td>\n",
              "    </tr>\n",
              "    <tr>\n",
              "      <th>DestWac</th>\n",
              "      <td>0.021361</td>\n",
              "      <td>0.121855</td>\n",
              "      <td>1.000000</td>\n",
              "      <td>-0.019799</td>\n",
              "      <td>0.224160</td>\n",
              "      <td>-0.010827</td>\n",
              "      <td>-0.011196</td>\n",
              "    </tr>\n",
              "    <tr>\n",
              "      <th>Miles</th>\n",
              "      <td>-0.018353</td>\n",
              "      <td>-0.020422</td>\n",
              "      <td>-0.019799</td>\n",
              "      <td>1.000000</td>\n",
              "      <td>-0.409319</td>\n",
              "      <td>-0.027975</td>\n",
              "      <td>0.358581</td>\n",
              "    </tr>\n",
              "    <tr>\n",
              "      <th>ContiguousUSA</th>\n",
              "      <td>0.027347</td>\n",
              "      <td>0.222902</td>\n",
              "      <td>0.224160</td>\n",
              "      <td>-0.409319</td>\n",
              "      <td>1.000000</td>\n",
              "      <td>-0.003400</td>\n",
              "      <td>-0.152352</td>\n",
              "    </tr>\n",
              "    <tr>\n",
              "      <th>NumTicketsOrdered</th>\n",
              "      <td>-0.014315</td>\n",
              "      <td>-0.010337</td>\n",
              "      <td>-0.010827</td>\n",
              "      <td>-0.027975</td>\n",
              "      <td>-0.003400</td>\n",
              "      <td>1.000000</td>\n",
              "      <td>-0.153306</td>\n",
              "    </tr>\n",
              "    <tr>\n",
              "      <th>PricePerTicket</th>\n",
              "      <td>0.072110</td>\n",
              "      <td>-0.009163</td>\n",
              "      <td>-0.011196</td>\n",
              "      <td>0.358581</td>\n",
              "      <td>-0.152352</td>\n",
              "      <td>-0.153306</td>\n",
              "      <td>1.000000</td>\n",
              "    </tr>\n",
              "  </tbody>\n",
              "</table>\n",
              "</div>\n",
              "      <button class=\"colab-df-convert\" onclick=\"convertToInteractive('df-13fd6ee1-47a4-4203-af59-22f97873dfdc')\"\n",
              "              title=\"Convert this dataframe to an interactive table.\"\n",
              "              style=\"display:none;\">\n",
              "        \n",
              "  <svg xmlns=\"http://www.w3.org/2000/svg\" height=\"24px\"viewBox=\"0 0 24 24\"\n",
              "       width=\"24px\">\n",
              "    <path d=\"M0 0h24v24H0V0z\" fill=\"none\"/>\n",
              "    <path d=\"M18.56 5.44l.94 2.06.94-2.06 2.06-.94-2.06-.94-.94-2.06-.94 2.06-2.06.94zm-11 1L8.5 8.5l.94-2.06 2.06-.94-2.06-.94L8.5 2.5l-.94 2.06-2.06.94zm10 10l.94 2.06.94-2.06 2.06-.94-2.06-.94-.94-2.06-.94 2.06-2.06.94z\"/><path d=\"M17.41 7.96l-1.37-1.37c-.4-.4-.92-.59-1.43-.59-.52 0-1.04.2-1.43.59L10.3 9.45l-7.72 7.72c-.78.78-.78 2.05 0 2.83L4 21.41c.39.39.9.59 1.41.59.51 0 1.02-.2 1.41-.59l7.78-7.78 2.81-2.81c.8-.78.8-2.07 0-2.86zM5.41 20L4 18.59l7.72-7.72 1.47 1.35L5.41 20z\"/>\n",
              "  </svg>\n",
              "      </button>\n",
              "      \n",
              "  <style>\n",
              "    .colab-df-container {\n",
              "      display:flex;\n",
              "      flex-wrap:wrap;\n",
              "      gap: 12px;\n",
              "    }\n",
              "\n",
              "    .colab-df-convert {\n",
              "      background-color: #E8F0FE;\n",
              "      border: none;\n",
              "      border-radius: 50%;\n",
              "      cursor: pointer;\n",
              "      display: none;\n",
              "      fill: #1967D2;\n",
              "      height: 32px;\n",
              "      padding: 0 0 0 0;\n",
              "      width: 32px;\n",
              "    }\n",
              "\n",
              "    .colab-df-convert:hover {\n",
              "      background-color: #E2EBFA;\n",
              "      box-shadow: 0px 1px 2px rgba(60, 64, 67, 0.3), 0px 1px 3px 1px rgba(60, 64, 67, 0.15);\n",
              "      fill: #174EA6;\n",
              "    }\n",
              "\n",
              "    [theme=dark] .colab-df-convert {\n",
              "      background-color: #3B4455;\n",
              "      fill: #D2E3FC;\n",
              "    }\n",
              "\n",
              "    [theme=dark] .colab-df-convert:hover {\n",
              "      background-color: #434B5C;\n",
              "      box-shadow: 0px 1px 3px 1px rgba(0, 0, 0, 0.15);\n",
              "      filter: drop-shadow(0px 1px 2px rgba(0, 0, 0, 0.3));\n",
              "      fill: #FFFFFF;\n",
              "    }\n",
              "  </style>\n",
              "\n",
              "      <script>\n",
              "        const buttonEl =\n",
              "          document.querySelector('#df-13fd6ee1-47a4-4203-af59-22f97873dfdc button.colab-df-convert');\n",
              "        buttonEl.style.display =\n",
              "          google.colab.kernel.accessAllowed ? 'block' : 'none';\n",
              "\n",
              "        async function convertToInteractive(key) {\n",
              "          const element = document.querySelector('#df-13fd6ee1-47a4-4203-af59-22f97873dfdc');\n",
              "          const dataTable =\n",
              "            await google.colab.kernel.invokeFunction('convertToInteractive',\n",
              "                                                     [key], {});\n",
              "          if (!dataTable) return;\n",
              "\n",
              "          const docLinkHtml = 'Like what you see? Visit the ' +\n",
              "            '<a target=\"_blank\" href=https://colab.research.google.com/notebooks/data_table.ipynb>data table notebook</a>'\n",
              "            + ' to learn more about interactive tables.';\n",
              "          element.innerHTML = '';\n",
              "          dataTable['output_type'] = 'display_data';\n",
              "          await google.colab.output.renderOutput(dataTable, element);\n",
              "          const docLink = document.createElement('div');\n",
              "          docLink.innerHTML = docLinkHtml;\n",
              "          element.appendChild(docLink);\n",
              "        }\n",
              "      </script>\n",
              "    </div>\n",
              "  </div>\n",
              "  "
            ]
          },
          "metadata": {},
          "execution_count": 4
        }
      ],
      "source": [
        "#Co-relation between features\n",
        "flights.corr(method='pearson')"
      ]
    },
    {
      "cell_type": "code",
      "execution_count": 5,
      "metadata": {
        "colab": {
          "base_uri": "https://localhost:8080/"
        },
        "id": "1cubizftDhcq",
        "outputId": "37e9643c-0e80-4679-8828-e2bbbe8124bb"
      },
      "outputs": [
        {
          "output_type": "execute_result",
          "data": {
            "text/plain": [
              "Quarter                  4\n",
              "Origin                 276\n",
              "OriginWac               53\n",
              "Dest                   274\n",
              "DestWac                 53\n",
              "Miles                 2216\n",
              "ContiguousUSA            2\n",
              "NumTicketsOrdered       20\n",
              "AirlineCompany          14\n",
              "PricePerTicket       63364\n",
              "dtype: int64"
            ]
          },
          "metadata": {},
          "execution_count": 5
        }
      ],
      "source": [
        "flights.nunique()"
      ]
    },
    {
      "cell_type": "code",
      "execution_count": 6,
      "metadata": {
        "colab": {
          "base_uri": "https://localhost:8080/"
        },
        "id": "jWhKCzHOFiUz",
        "outputId": "78ff2b24-697b-4f75-af17-3400221017d0"
      },
      "outputs": [
        {
          "output_type": "execute_result",
          "data": {
            "text/plain": [
              "Quarter              0\n",
              "Origin               0\n",
              "OriginWac            0\n",
              "Dest                 0\n",
              "DestWac              0\n",
              "Miles                0\n",
              "ContiguousUSA        0\n",
              "NumTicketsOrdered    0\n",
              "AirlineCompany       0\n",
              "PricePerTicket       0\n",
              "dtype: int64"
            ]
          },
          "metadata": {},
          "execution_count": 6
        }
      ],
      "source": [
        "flights.isnull().sum()"
      ]
    },
    {
      "cell_type": "code",
      "execution_count": 7,
      "metadata": {
        "id": "bbEyQjBPVxXk"
      },
      "outputs": [],
      "source": [
        "# import seaborn as sns\n",
        "# sns.pairplot(flights)"
      ]
    },
    {
      "cell_type": "code",
      "execution_count": 8,
      "metadata": {
        "id": "bgc_HNhzFgxM"
      },
      "outputs": [],
      "source": [
        "# import seaborn as sns\n",
        "# x = flights['NumTicketsOrdered']\n",
        "# sns.distplot(x)"
      ]
    },
    {
      "cell_type": "code",
      "execution_count": 9,
      "metadata": {
        "colab": {
          "base_uri": "https://localhost:8080/"
        },
        "id": "RkG_gtmCJzFZ",
        "outputId": "b45bf12b-0cad-4657-b5c4-aa03af73514a"
      },
      "outputs": [
        {
          "output_type": "execute_result",
          "data": {
            "text/plain": [
              "WN    2277460\n",
              "AA    1283771\n",
              "DL    1202566\n",
              "UA     931693\n",
              "B6     567637\n",
              "G4     376406\n",
              "AS     376154\n",
              "NK     252623\n",
              "F9     159376\n",
              "HA     114212\n",
              "SY      40774\n",
              "MX      17113\n",
              "3M      10020\n",
              "XP       3838\n",
              "Name: AirlineCompany, dtype: int64"
            ]
          },
          "metadata": {},
          "execution_count": 9
        }
      ],
      "source": [
        "flights['AirlineCompany'].value_counts()"
      ]
    },
    {
      "cell_type": "code",
      "execution_count": 10,
      "metadata": {
        "id": "uTnJ4zm1reQO"
      },
      "outputs": [],
      "source": [
        "# import seaborn as sns\n",
        "# y = flights['PricePerTicket']\n",
        "# sns.distplot(y)"
      ]
    },
    {
      "cell_type": "code",
      "execution_count": 11,
      "metadata": {
        "colab": {
          "base_uri": "https://localhost:8080/"
        },
        "id": "oeNsC7mwrmfQ",
        "outputId": "0ae1d66d-5b8b-4259-8adc-862f322b1786"
      },
      "outputs": [
        {
          "output_type": "execute_result",
          "data": {
            "text/plain": [
              "count    7.613643e+06\n",
              "mean     2.121785e+02\n",
              "std      1.391172e+02\n",
              "min      5.000000e+01\n",
              "25%      1.185000e+02\n",
              "50%      1.765000e+02\n",
              "75%      2.620000e+02\n",
              "max      1.000000e+03\n",
              "Name: PricePerTicket, dtype: float64"
            ]
          },
          "metadata": {},
          "execution_count": 11
        }
      ],
      "source": [
        "flights['PricePerTicket'].describe()"
      ]
    },
    {
      "cell_type": "code",
      "execution_count": 12,
      "metadata": {
        "id": "qWpTuOQudPMp"
      },
      "outputs": [],
      "source": [
        "# import matplotlib.pyplot as plt\n",
        "# plt.scatter(flights['PricePerTicket'], flights['Miles'])"
      ]
    },
    {
      "cell_type": "code",
      "execution_count": 13,
      "metadata": {
        "id": "aI7elrgNL5ps"
      },
      "outputs": [],
      "source": [
        "# import seaborn as sns\n",
        "# sns.regplot(x=\"Miles\", y=\"PricePerTicket\", data = flights)"
      ]
    },
    {
      "cell_type": "code",
      "execution_count": 14,
      "metadata": {
        "colab": {
          "base_uri": "https://localhost:8080/"
        },
        "id": "DETNpMeYdw5R",
        "outputId": "0c98829d-cc77-4226-f90a-8955294fb7d1"
      },
      "outputs": [
        {
          "output_type": "stream",
          "name": "stdout",
          "text": [
            "Looking in indexes: https://pypi.org/simple, https://us-python.pkg.dev/colab-wheels/public/simple/\n",
            "Requirement already satisfied: category_encoders in /usr/local/lib/python3.9/dist-packages (2.6.0)\n",
            "Requirement already satisfied: patsy>=0.5.1 in /usr/local/lib/python3.9/dist-packages (from category_encoders) (0.5.3)\n",
            "Requirement already satisfied: numpy>=1.14.0 in /usr/local/lib/python3.9/dist-packages (from category_encoders) (1.22.4)\n",
            "Requirement already satisfied: pandas>=1.0.5 in /usr/local/lib/python3.9/dist-packages (from category_encoders) (1.5.3)\n",
            "Requirement already satisfied: scipy>=1.0.0 in /usr/local/lib/python3.9/dist-packages (from category_encoders) (1.10.1)\n",
            "Requirement already satisfied: scikit-learn>=0.20.0 in /usr/local/lib/python3.9/dist-packages (from category_encoders) (1.2.2)\n",
            "Requirement already satisfied: statsmodels>=0.9.0 in /usr/local/lib/python3.9/dist-packages (from category_encoders) (0.13.5)\n",
            "Requirement already satisfied: python-dateutil>=2.8.1 in /usr/local/lib/python3.9/dist-packages (from pandas>=1.0.5->category_encoders) (2.8.2)\n",
            "Requirement already satisfied: pytz>=2020.1 in /usr/local/lib/python3.9/dist-packages (from pandas>=1.0.5->category_encoders) (2022.7.1)\n",
            "Requirement already satisfied: six in /usr/local/lib/python3.9/dist-packages (from patsy>=0.5.1->category_encoders) (1.16.0)\n",
            "Requirement already satisfied: joblib>=1.1.1 in /usr/local/lib/python3.9/dist-packages (from scikit-learn>=0.20.0->category_encoders) (1.2.0)\n",
            "Requirement already satisfied: threadpoolctl>=2.0.0 in /usr/local/lib/python3.9/dist-packages (from scikit-learn>=0.20.0->category_encoders) (3.1.0)\n",
            "Requirement already satisfied: packaging>=21.3 in /usr/local/lib/python3.9/dist-packages (from statsmodels>=0.9.0->category_encoders) (23.0)\n"
          ]
        }
      ],
      "source": [
        "!pip install category_encoders"
      ]
    },
    {
      "cell_type": "code",
      "execution_count": 15,
      "metadata": {
        "colab": {
          "base_uri": "https://localhost:8080/",
          "height": 424
        },
        "id": "8MJIVGG9dxBL",
        "outputId": "7e58e113-9558-4764-8781-7360a34bbc30"
      },
      "outputs": [
        {
          "output_type": "execute_result",
          "data": {
            "text/plain": [
              "         Quarter Origin Dest   Miles  NumTicketsOrdered AirlineCompany  \\\n",
              "0              1    PHL  LAX  2402.0                3.0             AA   \n",
              "1              1    LAX  PHL  2402.0                2.0             AA   \n",
              "2              1    PHL  LAX  2402.0                2.0             AA   \n",
              "3              1    LAX  PHL  2402.0                3.0             AA   \n",
              "4              1    PHL  LAX  2402.0                3.0             AA   \n",
              "...          ...    ...  ...     ...                ...            ...   \n",
              "7613638        4    JFK  SFO  2586.0                1.0             AS   \n",
              "7613639        4    JFK  SFO  2586.0                1.0             AS   \n",
              "7613640        4    JFK  SFO  2586.0                1.0             AS   \n",
              "7613641        4    JFK  SFO  2586.0                1.0             AS   \n",
              "7613642        4    JFK  SFO  2586.0                1.0             AS   \n",
              "\n",
              "         PricePerTicket  \n",
              "0                 64.00  \n",
              "1                 68.50  \n",
              "2                 68.50  \n",
              "3                 70.50  \n",
              "4                 70.50  \n",
              "...                 ...  \n",
              "7613638          119.59  \n",
              "7613639          120.50  \n",
              "7613640          133.69  \n",
              "7613641          196.89  \n",
              "7613642          654.80  \n",
              "\n",
              "[7613643 rows x 7 columns]"
            ],
            "text/html": [
              "\n",
              "  <div id=\"df-9a283534-6684-4087-a817-0632da42ef78\">\n",
              "    <div class=\"colab-df-container\">\n",
              "      <div>\n",
              "<style scoped>\n",
              "    .dataframe tbody tr th:only-of-type {\n",
              "        vertical-align: middle;\n",
              "    }\n",
              "\n",
              "    .dataframe tbody tr th {\n",
              "        vertical-align: top;\n",
              "    }\n",
              "\n",
              "    .dataframe thead th {\n",
              "        text-align: right;\n",
              "    }\n",
              "</style>\n",
              "<table border=\"1\" class=\"dataframe\">\n",
              "  <thead>\n",
              "    <tr style=\"text-align: right;\">\n",
              "      <th></th>\n",
              "      <th>Quarter</th>\n",
              "      <th>Origin</th>\n",
              "      <th>Dest</th>\n",
              "      <th>Miles</th>\n",
              "      <th>NumTicketsOrdered</th>\n",
              "      <th>AirlineCompany</th>\n",
              "      <th>PricePerTicket</th>\n",
              "    </tr>\n",
              "  </thead>\n",
              "  <tbody>\n",
              "    <tr>\n",
              "      <th>0</th>\n",
              "      <td>1</td>\n",
              "      <td>PHL</td>\n",
              "      <td>LAX</td>\n",
              "      <td>2402.0</td>\n",
              "      <td>3.0</td>\n",
              "      <td>AA</td>\n",
              "      <td>64.00</td>\n",
              "    </tr>\n",
              "    <tr>\n",
              "      <th>1</th>\n",
              "      <td>1</td>\n",
              "      <td>LAX</td>\n",
              "      <td>PHL</td>\n",
              "      <td>2402.0</td>\n",
              "      <td>2.0</td>\n",
              "      <td>AA</td>\n",
              "      <td>68.50</td>\n",
              "    </tr>\n",
              "    <tr>\n",
              "      <th>2</th>\n",
              "      <td>1</td>\n",
              "      <td>PHL</td>\n",
              "      <td>LAX</td>\n",
              "      <td>2402.0</td>\n",
              "      <td>2.0</td>\n",
              "      <td>AA</td>\n",
              "      <td>68.50</td>\n",
              "    </tr>\n",
              "    <tr>\n",
              "      <th>3</th>\n",
              "      <td>1</td>\n",
              "      <td>LAX</td>\n",
              "      <td>PHL</td>\n",
              "      <td>2402.0</td>\n",
              "      <td>3.0</td>\n",
              "      <td>AA</td>\n",
              "      <td>70.50</td>\n",
              "    </tr>\n",
              "    <tr>\n",
              "      <th>4</th>\n",
              "      <td>1</td>\n",
              "      <td>PHL</td>\n",
              "      <td>LAX</td>\n",
              "      <td>2402.0</td>\n",
              "      <td>3.0</td>\n",
              "      <td>AA</td>\n",
              "      <td>70.50</td>\n",
              "    </tr>\n",
              "    <tr>\n",
              "      <th>...</th>\n",
              "      <td>...</td>\n",
              "      <td>...</td>\n",
              "      <td>...</td>\n",
              "      <td>...</td>\n",
              "      <td>...</td>\n",
              "      <td>...</td>\n",
              "      <td>...</td>\n",
              "    </tr>\n",
              "    <tr>\n",
              "      <th>7613638</th>\n",
              "      <td>4</td>\n",
              "      <td>JFK</td>\n",
              "      <td>SFO</td>\n",
              "      <td>2586.0</td>\n",
              "      <td>1.0</td>\n",
              "      <td>AS</td>\n",
              "      <td>119.59</td>\n",
              "    </tr>\n",
              "    <tr>\n",
              "      <th>7613639</th>\n",
              "      <td>4</td>\n",
              "      <td>JFK</td>\n",
              "      <td>SFO</td>\n",
              "      <td>2586.0</td>\n",
              "      <td>1.0</td>\n",
              "      <td>AS</td>\n",
              "      <td>120.50</td>\n",
              "    </tr>\n",
              "    <tr>\n",
              "      <th>7613640</th>\n",
              "      <td>4</td>\n",
              "      <td>JFK</td>\n",
              "      <td>SFO</td>\n",
              "      <td>2586.0</td>\n",
              "      <td>1.0</td>\n",
              "      <td>AS</td>\n",
              "      <td>133.69</td>\n",
              "    </tr>\n",
              "    <tr>\n",
              "      <th>7613641</th>\n",
              "      <td>4</td>\n",
              "      <td>JFK</td>\n",
              "      <td>SFO</td>\n",
              "      <td>2586.0</td>\n",
              "      <td>1.0</td>\n",
              "      <td>AS</td>\n",
              "      <td>196.89</td>\n",
              "    </tr>\n",
              "    <tr>\n",
              "      <th>7613642</th>\n",
              "      <td>4</td>\n",
              "      <td>JFK</td>\n",
              "      <td>SFO</td>\n",
              "      <td>2586.0</td>\n",
              "      <td>1.0</td>\n",
              "      <td>AS</td>\n",
              "      <td>654.80</td>\n",
              "    </tr>\n",
              "  </tbody>\n",
              "</table>\n",
              "<p>7613643 rows × 7 columns</p>\n",
              "</div>\n",
              "      <button class=\"colab-df-convert\" onclick=\"convertToInteractive('df-9a283534-6684-4087-a817-0632da42ef78')\"\n",
              "              title=\"Convert this dataframe to an interactive table.\"\n",
              "              style=\"display:none;\">\n",
              "        \n",
              "  <svg xmlns=\"http://www.w3.org/2000/svg\" height=\"24px\"viewBox=\"0 0 24 24\"\n",
              "       width=\"24px\">\n",
              "    <path d=\"M0 0h24v24H0V0z\" fill=\"none\"/>\n",
              "    <path d=\"M18.56 5.44l.94 2.06.94-2.06 2.06-.94-2.06-.94-.94-2.06-.94 2.06-2.06.94zm-11 1L8.5 8.5l.94-2.06 2.06-.94-2.06-.94L8.5 2.5l-.94 2.06-2.06.94zm10 10l.94 2.06.94-2.06 2.06-.94-2.06-.94-.94-2.06-.94 2.06-2.06.94z\"/><path d=\"M17.41 7.96l-1.37-1.37c-.4-.4-.92-.59-1.43-.59-.52 0-1.04.2-1.43.59L10.3 9.45l-7.72 7.72c-.78.78-.78 2.05 0 2.83L4 21.41c.39.39.9.59 1.41.59.51 0 1.02-.2 1.41-.59l7.78-7.78 2.81-2.81c.8-.78.8-2.07 0-2.86zM5.41 20L4 18.59l7.72-7.72 1.47 1.35L5.41 20z\"/>\n",
              "  </svg>\n",
              "      </button>\n",
              "      \n",
              "  <style>\n",
              "    .colab-df-container {\n",
              "      display:flex;\n",
              "      flex-wrap:wrap;\n",
              "      gap: 12px;\n",
              "    }\n",
              "\n",
              "    .colab-df-convert {\n",
              "      background-color: #E8F0FE;\n",
              "      border: none;\n",
              "      border-radius: 50%;\n",
              "      cursor: pointer;\n",
              "      display: none;\n",
              "      fill: #1967D2;\n",
              "      height: 32px;\n",
              "      padding: 0 0 0 0;\n",
              "      width: 32px;\n",
              "    }\n",
              "\n",
              "    .colab-df-convert:hover {\n",
              "      background-color: #E2EBFA;\n",
              "      box-shadow: 0px 1px 2px rgba(60, 64, 67, 0.3), 0px 1px 3px 1px rgba(60, 64, 67, 0.15);\n",
              "      fill: #174EA6;\n",
              "    }\n",
              "\n",
              "    [theme=dark] .colab-df-convert {\n",
              "      background-color: #3B4455;\n",
              "      fill: #D2E3FC;\n",
              "    }\n",
              "\n",
              "    [theme=dark] .colab-df-convert:hover {\n",
              "      background-color: #434B5C;\n",
              "      box-shadow: 0px 1px 3px 1px rgba(0, 0, 0, 0.15);\n",
              "      filter: drop-shadow(0px 1px 2px rgba(0, 0, 0, 0.3));\n",
              "      fill: #FFFFFF;\n",
              "    }\n",
              "  </style>\n",
              "\n",
              "      <script>\n",
              "        const buttonEl =\n",
              "          document.querySelector('#df-9a283534-6684-4087-a817-0632da42ef78 button.colab-df-convert');\n",
              "        buttonEl.style.display =\n",
              "          google.colab.kernel.accessAllowed ? 'block' : 'none';\n",
              "\n",
              "        async function convertToInteractive(key) {\n",
              "          const element = document.querySelector('#df-9a283534-6684-4087-a817-0632da42ef78');\n",
              "          const dataTable =\n",
              "            await google.colab.kernel.invokeFunction('convertToInteractive',\n",
              "                                                     [key], {});\n",
              "          if (!dataTable) return;\n",
              "\n",
              "          const docLinkHtml = 'Like what you see? Visit the ' +\n",
              "            '<a target=\"_blank\" href=https://colab.research.google.com/notebooks/data_table.ipynb>data table notebook</a>'\n",
              "            + ' to learn more about interactive tables.';\n",
              "          element.innerHTML = '';\n",
              "          dataTable['output_type'] = 'display_data';\n",
              "          await google.colab.output.renderOutput(dataTable, element);\n",
              "          const docLink = document.createElement('div');\n",
              "          docLink.innerHTML = docLinkHtml;\n",
              "          element.appendChild(docLink);\n",
              "        }\n",
              "      </script>\n",
              "    </div>\n",
              "  </div>\n",
              "  "
            ]
          },
          "metadata": {},
          "execution_count": 15
        }
      ],
      "source": [
        "flights = flights.drop(columns = ['OriginWac', 'DestWac', 'ContiguousUSA'])\n",
        "flights"
      ]
    },
    {
      "cell_type": "code",
      "execution_count": 16,
      "metadata": {
        "colab": {
          "base_uri": "https://localhost:8080/"
        },
        "id": "TtucPmrPdxH-",
        "outputId": "d9bd9f71-ed18-4aa2-8060-c7e7c1179544"
      },
      "outputs": [
        {
          "output_type": "execute_result",
          "data": {
            "text/plain": [
              "((2664775, 7), (2664775, 7), (2284093, 7))"
            ]
          },
          "metadata": {},
          "execution_count": 16
        }
      ],
      "source": [
        "from sklearn.model_selection import train_test_split\n",
        "\n",
        "train, test = train_test_split(flights, train_size = 0.70, test_size = 0.30, random_state=42)\n",
        "\n",
        "train, val = train_test_split(train, train_size = 0.50, test_size = 0.50, random_state=42)\n",
        "\n",
        "train.shape, val.shape, test.shape"
      ]
    },
    {
      "cell_type": "code",
      "execution_count": 17,
      "metadata": {
        "id": "JBwq_vvleG9R"
      },
      "outputs": [],
      "source": [
        "target = ['PricePerTicket']\n",
        "features = flights.columns.drop(target)\n",
        "\n",
        "x_train = train[features]\n",
        "y_train = train[target]\n",
        "\n",
        "x_val = val[features]\n",
        "y_val = val[target]\n",
        "\n",
        "x_test = test[features]\n",
        "y_test = test[target]"
      ]
    },
    {
      "cell_type": "code",
      "execution_count": 18,
      "metadata": {
        "colab": {
          "base_uri": "https://localhost:8080/"
        },
        "id": "Nuswe3E3eOod",
        "outputId": "ef7aa91b-3eaf-4d15-9a3f-51cf671408b6"
      },
      "outputs": [
        {
          "output_type": "stream",
          "name": "stderr",
          "text": [
            "/usr/local/lib/python3.9/dist-packages/sklearn/pipeline.py:405: DataConversionWarning: A column-vector y was passed when a 1d array was expected. Please change the shape of y to (n_samples,), for example using ravel().\n",
            "  self._final_estimator.fit(Xt, y, **fit_params_last_step)\n"
          ]
        },
        {
          "output_type": "stream",
          "name": "stdout",
          "text": [
            "RandomForest R^2 Score =  0.2944959577914401\n",
            "LinearRegression R² Score =  0.14682682203327857\n",
            "RidgeRegression R² Score =  0.14682682363609045\n",
            "LassoRegression R² Score =  0.14716687642927107\n",
            "Light GBM R² Score =  0.06393086914225432\n"
          ]
        }
      ],
      "source": [
        "from sklearn.pipeline import make_pipeline\n",
        "from category_encoders import TargetEncoder\n",
        "from category_encoders import OrdinalEncoder\n",
        "from sklearn.ensemble import RandomForestRegressor\n",
        "from sklearn.linear_model import LinearRegression\n",
        "from sklearn.linear_model import Ridge\n",
        "from sklearn.linear_model import Lasso\n",
        "import lightgbm as ltb\n",
        "from sklearn.metrics import r2_score\n",
        "\n",
        "#Encode the categoricals\n",
        "encoder = OrdinalEncoder()\n",
        "x_train_encoded = encoder.fit_transform(x_train)\n",
        "x_val_encoded = encoder.fit_transform(x_val)\n",
        "x_test_encoded = encoder.fit_transform(x_test)\n",
        "\n",
        "#RandomForest Regressor\n",
        "pipeline = make_pipeline(\n",
        "    OrdinalEncoder(),\n",
        "    RandomForestRegressor(max_depth=20, n_estimators=20)\n",
        ")\n",
        "pipeline.fit(x_train, y_train)\n",
        "y_pred = pipeline.predict(x_val)\n",
        "print('RandomForest R^2 Score = ', r2_score(y_val, y_pred))\n",
        "\n",
        "\n",
        "# LinearRegression Model\n",
        "model2 = LinearRegression()\n",
        "model2.fit(x_train_encoded, y_train)\n",
        "y_pred2 = model2.predict(x_val_encoded)\n",
        "print('LinearRegression R² Score = ', r2_score(y_val, y_pred2))\n",
        "\n",
        "# RidgeRegression Model\n",
        "model3 = Ridge()\n",
        "model3.fit(x_train_encoded, y_train)\n",
        "y_pred3 = model3.predict(x_val_encoded)\n",
        "print('RidgeRegression R² Score = ', r2_score(y_val, y_pred3))\n",
        "\n",
        "# LassoRegreession Model\n",
        "model4 = Lasso()\n",
        "model4.fit(x_train_encoded, y_train)\n",
        "y_pred4 = model4.predict(x_val_encoded)\n",
        "print('LassoRegression R² Score = ', r2_score(y_val,y_pred4))\n",
        "\n",
        "#LightGBM Model\n",
        "model5 = ltb.LGBMRegressor()\n",
        "model5.fit(x_train_encoded, y_train)\n",
        "y_pred5 = model5.predict(x_val_encoded)\n",
        "print('Light GBM R² Score = ', r2_score(y_val,y_pred5))"
      ]
    },
    {
      "cell_type": "code",
      "source": [
        "import pickle"
      ],
      "metadata": {
        "id": "O5lCmgRdCCC9"
      },
      "execution_count": 59,
      "outputs": []
    },
    {
      "cell_type": "code",
      "source": [
        "pickle.dump(pipeline, open('reg_model.pkl','wb'))"
      ],
      "metadata": {
        "id": "YacCEDBECCNF"
      },
      "execution_count": 60,
      "outputs": []
    },
    {
      "cell_type": "code",
      "source": [
        "pickled_model = pickle.load(open('reg_model.pkl','rb'))\n",
        "pickled_model.predict(x_test)"
      ],
      "metadata": {
        "colab": {
          "base_uri": "https://localhost:8080/"
        },
        "id": "AdJn2-iaCCVs",
        "outputId": "540f5d68-7d6c-45e3-c9c6-9b28bcdbaad5"
      },
      "execution_count": 61,
      "outputs": [
        {
          "output_type": "execute_result",
          "data": {
            "text/plain": [
              "array([147.09437436, 190.18633893, 236.50071372, ..., 171.76271142,\n",
              "       158.08480899, 194.65664959])"
            ]
          },
          "metadata": {},
          "execution_count": 61
        }
      ]
    },
    {
      "cell_type": "code",
      "execution_count": 19,
      "metadata": {
        "id": "ziSXgrb8eT1k",
        "colab": {
          "base_uri": "https://localhost:8080/"
        },
        "outputId": "01713eb7-3b26-4ee3-ce28-35cdf71a7f72"
      },
      "outputs": [
        {
          "output_type": "execute_result",
          "data": {
            "text/plain": [
              "['pipeline.joblib']"
            ]
          },
          "metadata": {},
          "execution_count": 19
        }
      ],
      "source": [
        "from joblib import dump\n",
        "dump(pipeline, 'pipeline.joblib', compress=9)"
      ]
    },
    {
      "cell_type": "code",
      "execution_count": 20,
      "metadata": {
        "colab": {
          "base_uri": "https://localhost:8080/"
        },
        "id": "6GUoBZtRh4Nl",
        "outputId": "9ebe66ac-44f1-4dce-dc32-fa8ae1ea7d40"
      },
      "outputs": [
        {
          "output_type": "stream",
          "name": "stdout",
          "text": [
            "joblib==1.2.0\n",
            "scikit-learn==1.2.2\n",
            "category_encoders==2.6.0\n",
            "pandas==2.6.0\n"
          ]
        }
      ],
      "source": [
        "import joblib\n",
        "import sklearn\n",
        "import category_encoders as ce\n",
        "import pandas as pd\n",
        "print(f'joblib=={joblib.__version__}')\n",
        "print(f'scikit-learn=={sklearn.__version__}')\n",
        "print(f'category_encoders=={ce.__version__}')\n",
        "print(f'pandas=={ce.__version__}')"
      ]
    },
    {
      "cell_type": "code",
      "execution_count": 21,
      "metadata": {
        "colab": {
          "base_uri": "https://localhost:8080/",
          "height": 250
        },
        "id": "BmbIMZQJh9QH",
        "outputId": "7664fb38-7015-4893-ae57-79011dde8f82"
      },
      "outputs": [
        {
          "output_type": "stream",
          "name": "stderr",
          "text": [
            "<ipython-input-21-a9be74b88653>:68: DataConversionWarning: A column-vector y was passed when a 1d array was expected. Please change the shape of y to (n_samples,), for example using ravel().\n",
            "  model_d.fit(xtd, ytd)\n",
            "<ipython-input-21-a9be74b88653>:69: DataConversionWarning: A column-vector y was passed when a 1d array was expected. Please change the shape of y to (n_samples,), for example using ravel().\n",
            "  model_s.fit(xts, yts)\n",
            "<ipython-input-21-a9be74b88653>:70: DataConversionWarning: A column-vector y was passed when a 1d array was expected. Please change the shape of y to (n_samples,), for example using ravel().\n",
            "  model_a.fit(xta, yta)\n",
            "<ipython-input-21-a9be74b88653>:71: DataConversionWarning: A column-vector y was passed when a 1d array was expected. Please change the shape of y to (n_samples,), for example using ravel().\n",
            "  model_u.fit(xtu, ytu)\n",
            "<ipython-input-21-a9be74b88653>:72: DataConversionWarning: A column-vector y was passed when a 1d array was expected. Please change the shape of y to (n_samples,), for example using ravel().\n",
            "  model_j.fit(xtj, ytj)\n"
          ]
        },
        {
          "output_type": "execute_result",
          "data": {
            "text/plain": [
              "RandomForestRegressor()"
            ],
            "text/html": [
              "<style>#sk-container-id-1 {color: black;background-color: white;}#sk-container-id-1 pre{padding: 0;}#sk-container-id-1 div.sk-toggleable {background-color: white;}#sk-container-id-1 label.sk-toggleable__label {cursor: pointer;display: block;width: 100%;margin-bottom: 0;padding: 0.3em;box-sizing: border-box;text-align: center;}#sk-container-id-1 label.sk-toggleable__label-arrow:before {content: \"▸\";float: left;margin-right: 0.25em;color: #696969;}#sk-container-id-1 label.sk-toggleable__label-arrow:hover:before {color: black;}#sk-container-id-1 div.sk-estimator:hover label.sk-toggleable__label-arrow:before {color: black;}#sk-container-id-1 div.sk-toggleable__content {max-height: 0;max-width: 0;overflow: hidden;text-align: left;background-color: #f0f8ff;}#sk-container-id-1 div.sk-toggleable__content pre {margin: 0.2em;color: black;border-radius: 0.25em;background-color: #f0f8ff;}#sk-container-id-1 input.sk-toggleable__control:checked~div.sk-toggleable__content {max-height: 200px;max-width: 100%;overflow: auto;}#sk-container-id-1 input.sk-toggleable__control:checked~label.sk-toggleable__label-arrow:before {content: \"▾\";}#sk-container-id-1 div.sk-estimator input.sk-toggleable__control:checked~label.sk-toggleable__label {background-color: #d4ebff;}#sk-container-id-1 div.sk-label input.sk-toggleable__control:checked~label.sk-toggleable__label {background-color: #d4ebff;}#sk-container-id-1 input.sk-hidden--visually {border: 0;clip: rect(1px 1px 1px 1px);clip: rect(1px, 1px, 1px, 1px);height: 1px;margin: -1px;overflow: hidden;padding: 0;position: absolute;width: 1px;}#sk-container-id-1 div.sk-estimator {font-family: monospace;background-color: #f0f8ff;border: 1px dotted black;border-radius: 0.25em;box-sizing: border-box;margin-bottom: 0.5em;}#sk-container-id-1 div.sk-estimator:hover {background-color: #d4ebff;}#sk-container-id-1 div.sk-parallel-item::after {content: \"\";width: 100%;border-bottom: 1px solid gray;flex-grow: 1;}#sk-container-id-1 div.sk-label:hover label.sk-toggleable__label {background-color: #d4ebff;}#sk-container-id-1 div.sk-serial::before {content: \"\";position: absolute;border-left: 1px solid gray;box-sizing: border-box;top: 0;bottom: 0;left: 50%;z-index: 0;}#sk-container-id-1 div.sk-serial {display: flex;flex-direction: column;align-items: center;background-color: white;padding-right: 0.2em;padding-left: 0.2em;position: relative;}#sk-container-id-1 div.sk-item {position: relative;z-index: 1;}#sk-container-id-1 div.sk-parallel {display: flex;align-items: stretch;justify-content: center;background-color: white;position: relative;}#sk-container-id-1 div.sk-item::before, #sk-container-id-1 div.sk-parallel-item::before {content: \"\";position: absolute;border-left: 1px solid gray;box-sizing: border-box;top: 0;bottom: 0;left: 50%;z-index: -1;}#sk-container-id-1 div.sk-parallel-item {display: flex;flex-direction: column;z-index: 1;position: relative;background-color: white;}#sk-container-id-1 div.sk-parallel-item:first-child::after {align-self: flex-end;width: 50%;}#sk-container-id-1 div.sk-parallel-item:last-child::after {align-self: flex-start;width: 50%;}#sk-container-id-1 div.sk-parallel-item:only-child::after {width: 0;}#sk-container-id-1 div.sk-dashed-wrapped {border: 1px dashed gray;margin: 0 0.4em 0.5em 0.4em;box-sizing: border-box;padding-bottom: 0.4em;background-color: white;}#sk-container-id-1 div.sk-label label {font-family: monospace;font-weight: bold;display: inline-block;line-height: 1.2em;}#sk-container-id-1 div.sk-label-container {text-align: center;}#sk-container-id-1 div.sk-container {/* jupyter's `normalize.less` sets `[hidden] { display: none; }` but bootstrap.min.css set `[hidden] { display: none !important; }` so we also need the `!important` here to be able to override the default hidden behavior on the sphinx rendered scikit-learn.org. See: https://github.com/scikit-learn/scikit-learn/issues/21755 */display: inline-block !important;position: relative;}#sk-container-id-1 div.sk-text-repr-fallback {display: none;}</style><div id=\"sk-container-id-1\" class=\"sk-top-container\"><div class=\"sk-text-repr-fallback\"><pre>RandomForestRegressor()</pre><b>In a Jupyter environment, please rerun this cell to show the HTML representation or trust the notebook. <br />On GitHub, the HTML representation is unable to render, please try loading this page with nbviewer.org.</b></div><div class=\"sk-container\" hidden><div class=\"sk-item\"><div class=\"sk-estimator sk-toggleable\"><input class=\"sk-toggleable__control sk-hidden--visually\" id=\"sk-estimator-id-1\" type=\"checkbox\" checked><label for=\"sk-estimator-id-1\" class=\"sk-toggleable__label sk-toggleable__label-arrow\">RandomForestRegressor</label><div class=\"sk-toggleable__content\"><pre>RandomForestRegressor()</pre></div></div></div></div></div>"
            ]
          },
          "metadata": {},
          "execution_count": 21
        }
      ],
      "source": [
        "# Train Sets -- Top 5 Airline Company Specific\n",
        "train_delta = train[train['AirlineCompany'] == 'DL']\n",
        "train_southwest = train[train['AirlineCompany'] == 'WN']\n",
        "train_american = train[train['AirlineCompany'] == 'AA']\n",
        "train_united = train[train['AirlineCompany'] == 'UA']\n",
        "train_jetblue = train[train['AirlineCompany'] == 'B6']\n",
        "\n",
        "# Validation Sets -- Top 5 Airline Company Specific\n",
        "val_delta = val[val['AirlineCompany'] == 'DL']\n",
        "val_southwest = val[val['AirlineCompany'] == 'WN']\n",
        "val_american = val[val['AirlineCompany'] == 'AA']\n",
        "val_united = val[val['AirlineCompany'] == 'UA']\n",
        "val_jetblue = val[val['AirlineCompany'] == 'B6']\n",
        "\n",
        "target = ['PricePerTicket']\n",
        "features = flights.columns.drop(target)\n",
        "\n",
        "# Delta\n",
        "xtd = train_delta[features]\n",
        "ytd = train_delta[target]\n",
        "xvd = val_delta[features]\n",
        "yvd = val_delta[target]\n",
        "\n",
        "# Southwest\n",
        "xts = train_southwest[features]\n",
        "yts = train_southwest[target]\n",
        "xvs = val_southwest[features]\n",
        "yvs = val_southwest[target]\n",
        "\n",
        "# American\n",
        "xta = train_american[features]\n",
        "yta = train_american[target]\n",
        "xva = val_american[features]\n",
        "yva = val_american[target]\n",
        "\n",
        "# United\n",
        "xtu = train_united[features]\n",
        "ytu = train_united[target]\n",
        "xvu = val_united[features]\n",
        "yvu = val_united[target]\n",
        "\n",
        "# Jetblue\n",
        "xtj = train_jetblue[features]\n",
        "ytj = train_jetblue[target]\n",
        "xvj = val_jetblue[features]\n",
        "yvj = val_jetblue[target]\n",
        "\n",
        "# Encode the categorical variables\n",
        "encoder = OrdinalEncoder()\n",
        "xtd = encoder.fit_transform(xtd, ytd)\n",
        "xvd = encoder.fit_transform(xvd, yvd)\n",
        "xts = encoder.fit_transform(xts, yts)\n",
        "xvs = encoder.fit_transform(xvs, yvs)\n",
        "xta = encoder.fit_transform(xta, yta)\n",
        "xva = encoder.fit_transform(xva, yva)\n",
        "xtu = encoder.fit_transform(xtu, ytu)\n",
        "xvu = encoder.fit_transform(xvu, yvu)\n",
        "xtj = encoder.fit_transform(xtj, ytj)\n",
        "xvj = encoder.fit_transform(xvj, yvj)\n",
        "\n",
        "# Random Forest Models\n",
        "model_d = RandomForestRegressor()\n",
        "model_s = RandomForestRegressor()\n",
        "model_a = RandomForestRegressor()\n",
        "model_u = RandomForestRegressor()\n",
        "model_j = RandomForestRegressor()\n",
        "\n",
        "model_d.fit(xtd, ytd)\n",
        "model_s.fit(xts, yts)\n",
        "model_a.fit(xta, yta)\n",
        "model_u.fit(xtu, ytu)\n",
        "model_j.fit(xtj, ytj)"
      ]
    },
    {
      "cell_type": "code",
      "execution_count": 22,
      "metadata": {
        "id": "gSOVX83ci7W6"
      },
      "outputs": [],
      "source": [
        "# pipeline_encoder = pipeline.named_steps['ordinalencoder']\n",
        "# mapping = pipeline_encoder.mapping\n",
        "\n",
        "# origin_dict = dict(mapping[0])\n",
        "# dest_dict = mapping[1]\n",
        "# airline_dict = mapping[2]"
      ]
    },
    {
      "cell_type": "code",
      "source": [
        "# from sklearn.metrics import accuracy_score\n",
        "# print (\" Random Forest Regressor Accuracy : \", accuracy_score(y_val,y_pred)*100)\n",
        "# # print (\" Linear Regression Accuracy : \", accuracy_score(y_val,y_pred2)*100)\n",
        "# # print (\" Ridge Regression Accuracy : \", accuracy_score(y_val,y_pred3)*100)\n",
        "# # print (\" Lasso Regreession Accuracy : \", accuracy_score(y_val,y_pred4)*100)\n",
        "# # print (\" LightGBM Accuracy : \", accuracy_score(y_val,y_pred5)*100)\n",
        "# # print (\" Decision Tree Regressor Accuracy : \", accuracy_score(y_val,y_pred6)*100)"
      ],
      "metadata": {
        "id": "XV8oSTS8V41g"
      },
      "execution_count": 23,
      "outputs": []
    }
  ],
  "metadata": {
    "colab": {
      "provenance": [],
      "include_colab_link": true
    },
    "kernelspec": {
      "display_name": "Python 3",
      "name": "python3"
    },
    "language_info": {
      "name": "python"
    }
  },
  "nbformat": 4,
  "nbformat_minor": 0
}