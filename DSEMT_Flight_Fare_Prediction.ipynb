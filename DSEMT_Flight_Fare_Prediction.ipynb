{
 "cells": [
  {
   "cell_type": "code",
   "execution_count": 1,
   "metadata": {
    "id": "o4vY6UyeHvzU"
   },
   "outputs": [],
   "source": [
    "import os\n",
    "import pandas as pd\n",
    "import numpy as np"
   ]
  },
  {
   "cell_type": "code",
   "execution_count": 2,
   "metadata": {
    "colab": {
     "base_uri": "https://localhost:8080/"
    },
    "id": "tzK40wHC0_lC",
    "outputId": "6396ddb8-de56-454f-d58f-da1efbae9925"
   },
   "outputs": [
    {
     "name": "stdout",
     "output_type": "stream",
     "text": [
      "<class 'pandas.core.frame.DataFrame'>\n",
      "RangeIndex: 7613643 entries, 0 to 7613642\n",
      "Data columns (total 13 columns):\n",
      " #   Column             Dtype  \n",
      "---  ------             -----  \n",
      " 0   ItinID             int64  \n",
      " 1   MktID              int64  \n",
      " 2   MktCoupons         int64  \n",
      " 3   Quarter            int64  \n",
      " 4   Origin             object \n",
      " 5   OriginWac          int64  \n",
      " 6   Dest               object \n",
      " 7   DestWac            int64  \n",
      " 8   Miles              float64\n",
      " 9   ContiguousUSA      int64  \n",
      " 10  NumTicketsOrdered  float64\n",
      " 11  AirlineCompany     object \n",
      " 12  PricePerTicket     float64\n",
      "dtypes: float64(3), int64(7), object(3)\n",
      "memory usage: 755.1+ MB\n"
     ]
    }
   ],
   "source": [
    "flights = pd.read_csv('https://media.githubusercontent.com/media/prathameshwalinu/Flight_Fare_Prediction/main/Cleaned_data.csv')\n",
    "flights.info()"
   ]
  },
  {
   "cell_type": "code",
   "execution_count": 3,
   "metadata": {
    "colab": {
     "base_uri": "https://localhost:8080/",
     "height": 424
    },
    "id": "NV4SeHHsAZmZ",
    "outputId": "1cfc25cb-843b-484b-d49d-9a1d61b3fcc9"
   },
   "outputs": [
    {
     "data": {
      "text/html": [
       "<div>\n",
       "<style scoped>\n",
       "    .dataframe tbody tr th:only-of-type {\n",
       "        vertical-align: middle;\n",
       "    }\n",
       "\n",
       "    .dataframe tbody tr th {\n",
       "        vertical-align: top;\n",
       "    }\n",
       "\n",
       "    .dataframe thead th {\n",
       "        text-align: right;\n",
       "    }\n",
       "</style>\n",
       "<table border=\"1\" class=\"dataframe\">\n",
       "  <thead>\n",
       "    <tr style=\"text-align: right;\">\n",
       "      <th></th>\n",
       "      <th>Quarter</th>\n",
       "      <th>Origin</th>\n",
       "      <th>OriginWac</th>\n",
       "      <th>Dest</th>\n",
       "      <th>DestWac</th>\n",
       "      <th>Miles</th>\n",
       "      <th>ContiguousUSA</th>\n",
       "      <th>NumTicketsOrdered</th>\n",
       "      <th>AirlineCompany</th>\n",
       "      <th>PricePerTicket</th>\n",
       "    </tr>\n",
       "  </thead>\n",
       "  <tbody>\n",
       "    <tr>\n",
       "      <th>0</th>\n",
       "      <td>1</td>\n",
       "      <td>PHL</td>\n",
       "      <td>23</td>\n",
       "      <td>LAX</td>\n",
       "      <td>91</td>\n",
       "      <td>2402.0</td>\n",
       "      <td>2</td>\n",
       "      <td>3.0</td>\n",
       "      <td>AA</td>\n",
       "      <td>64.00</td>\n",
       "    </tr>\n",
       "    <tr>\n",
       "      <th>1</th>\n",
       "      <td>1</td>\n",
       "      <td>LAX</td>\n",
       "      <td>91</td>\n",
       "      <td>PHL</td>\n",
       "      <td>23</td>\n",
       "      <td>2402.0</td>\n",
       "      <td>2</td>\n",
       "      <td>2.0</td>\n",
       "      <td>AA</td>\n",
       "      <td>68.50</td>\n",
       "    </tr>\n",
       "    <tr>\n",
       "      <th>2</th>\n",
       "      <td>1</td>\n",
       "      <td>PHL</td>\n",
       "      <td>23</td>\n",
       "      <td>LAX</td>\n",
       "      <td>91</td>\n",
       "      <td>2402.0</td>\n",
       "      <td>2</td>\n",
       "      <td>2.0</td>\n",
       "      <td>AA</td>\n",
       "      <td>68.50</td>\n",
       "    </tr>\n",
       "    <tr>\n",
       "      <th>3</th>\n",
       "      <td>1</td>\n",
       "      <td>LAX</td>\n",
       "      <td>91</td>\n",
       "      <td>PHL</td>\n",
       "      <td>23</td>\n",
       "      <td>2402.0</td>\n",
       "      <td>2</td>\n",
       "      <td>3.0</td>\n",
       "      <td>AA</td>\n",
       "      <td>70.50</td>\n",
       "    </tr>\n",
       "    <tr>\n",
       "      <th>4</th>\n",
       "      <td>1</td>\n",
       "      <td>PHL</td>\n",
       "      <td>23</td>\n",
       "      <td>LAX</td>\n",
       "      <td>91</td>\n",
       "      <td>2402.0</td>\n",
       "      <td>2</td>\n",
       "      <td>3.0</td>\n",
       "      <td>AA</td>\n",
       "      <td>70.50</td>\n",
       "    </tr>\n",
       "    <tr>\n",
       "      <th>...</th>\n",
       "      <td>...</td>\n",
       "      <td>...</td>\n",
       "      <td>...</td>\n",
       "      <td>...</td>\n",
       "      <td>...</td>\n",
       "      <td>...</td>\n",
       "      <td>...</td>\n",
       "      <td>...</td>\n",
       "      <td>...</td>\n",
       "      <td>...</td>\n",
       "    </tr>\n",
       "    <tr>\n",
       "      <th>7613638</th>\n",
       "      <td>4</td>\n",
       "      <td>JFK</td>\n",
       "      <td>22</td>\n",
       "      <td>SFO</td>\n",
       "      <td>91</td>\n",
       "      <td>2586.0</td>\n",
       "      <td>2</td>\n",
       "      <td>1.0</td>\n",
       "      <td>AS</td>\n",
       "      <td>119.59</td>\n",
       "    </tr>\n",
       "    <tr>\n",
       "      <th>7613639</th>\n",
       "      <td>4</td>\n",
       "      <td>JFK</td>\n",
       "      <td>22</td>\n",
       "      <td>SFO</td>\n",
       "      <td>91</td>\n",
       "      <td>2586.0</td>\n",
       "      <td>2</td>\n",
       "      <td>1.0</td>\n",
       "      <td>AS</td>\n",
       "      <td>120.50</td>\n",
       "    </tr>\n",
       "    <tr>\n",
       "      <th>7613640</th>\n",
       "      <td>4</td>\n",
       "      <td>JFK</td>\n",
       "      <td>22</td>\n",
       "      <td>SFO</td>\n",
       "      <td>91</td>\n",
       "      <td>2586.0</td>\n",
       "      <td>2</td>\n",
       "      <td>1.0</td>\n",
       "      <td>AS</td>\n",
       "      <td>133.69</td>\n",
       "    </tr>\n",
       "    <tr>\n",
       "      <th>7613641</th>\n",
       "      <td>4</td>\n",
       "      <td>JFK</td>\n",
       "      <td>22</td>\n",
       "      <td>SFO</td>\n",
       "      <td>91</td>\n",
       "      <td>2586.0</td>\n",
       "      <td>2</td>\n",
       "      <td>1.0</td>\n",
       "      <td>AS</td>\n",
       "      <td>196.89</td>\n",
       "    </tr>\n",
       "    <tr>\n",
       "      <th>7613642</th>\n",
       "      <td>4</td>\n",
       "      <td>JFK</td>\n",
       "      <td>22</td>\n",
       "      <td>SFO</td>\n",
       "      <td>91</td>\n",
       "      <td>2586.0</td>\n",
       "      <td>2</td>\n",
       "      <td>1.0</td>\n",
       "      <td>AS</td>\n",
       "      <td>654.80</td>\n",
       "    </tr>\n",
       "  </tbody>\n",
       "</table>\n",
       "<p>7613643 rows × 10 columns</p>\n",
       "</div>"
      ],
      "text/plain": [
       "         Quarter Origin  OriginWac Dest  DestWac   Miles  ContiguousUSA  \\\n",
       "0              1    PHL         23  LAX       91  2402.0              2   \n",
       "1              1    LAX         91  PHL       23  2402.0              2   \n",
       "2              1    PHL         23  LAX       91  2402.0              2   \n",
       "3              1    LAX         91  PHL       23  2402.0              2   \n",
       "4              1    PHL         23  LAX       91  2402.0              2   \n",
       "...          ...    ...        ...  ...      ...     ...            ...   \n",
       "7613638        4    JFK         22  SFO       91  2586.0              2   \n",
       "7613639        4    JFK         22  SFO       91  2586.0              2   \n",
       "7613640        4    JFK         22  SFO       91  2586.0              2   \n",
       "7613641        4    JFK         22  SFO       91  2586.0              2   \n",
       "7613642        4    JFK         22  SFO       91  2586.0              2   \n",
       "\n",
       "         NumTicketsOrdered AirlineCompany  PricePerTicket  \n",
       "0                      3.0             AA           64.00  \n",
       "1                      2.0             AA           68.50  \n",
       "2                      2.0             AA           68.50  \n",
       "3                      3.0             AA           70.50  \n",
       "4                      3.0             AA           70.50  \n",
       "...                    ...            ...             ...  \n",
       "7613638                1.0             AS          119.59  \n",
       "7613639                1.0             AS          120.50  \n",
       "7613640                1.0             AS          133.69  \n",
       "7613641                1.0             AS          196.89  \n",
       "7613642                1.0             AS          654.80  \n",
       "\n",
       "[7613643 rows x 10 columns]"
      ]
     },
     "execution_count": 3,
     "metadata": {},
     "output_type": "execute_result"
    }
   ],
   "source": [
    "flights = flights.drop(['ItinID', 'MktCoupons', 'MktID'], axis=1)\n",
    "flights"
   ]
  },
  {
   "cell_type": "code",
   "execution_count": 40,
   "metadata": {
    "colab": {
     "base_uri": "https://localhost:8080/",
     "height": 325
    },
    "id": "SiYdlyl4AbPe",
    "outputId": "bae9fb50-2100-4175-dc18-1f8ff43dfc40"
   },
   "outputs": [
    {
     "data": {
      "text/plain": [
       "<matplotlib.axes._subplots.AxesSubplot at 0x7fe11365ad90>"
      ]
     },
     "execution_count": 40,
     "metadata": {},
     "output_type": "execute_result"
    },
    {
     "data": {
      "image/png": "[encoded data removed]",
      "text/plain": [
       "<Figure size 640x480 with 2 Axes>"
      ]
     },
     "metadata": {},
     "output_type": "display_data"
    }
   ],
   "source": [
    "#Co-relation between features\n",
    "import seaborn as sns\n",
    "import matplotlib.pyplot as plt\n",
    "sns.heatmap(flights.corr(),annot=True)"
   ]
  },
  {
   "cell_type": "code",
   "execution_count": 5,
   "metadata": {
    "colab": {
     "base_uri": "https://localhost:8080/"
    },
    "id": "1cubizftDhcq",
    "outputId": "37e9643c-0e80-4679-8828-e2bbbe8124bb"
   },
   "outputs": [
    {
     "data": {
      "text/plain": [
       "Quarter                  4\n",
       "Origin                 276\n",
       "OriginWac               53\n",
       "Dest                   274\n",
       "DestWac                 53\n",
       "Miles                 2216\n",
       "ContiguousUSA            2\n",
       "NumTicketsOrdered       20\n",
       "AirlineCompany          14\n",
       "PricePerTicket       63364\n",
       "dtype: int64"
      ]
     },
     "execution_count": 5,
     "metadata": {},
     "output_type": "execute_result"
    }
   ],
   "source": [
    "flights.nunique()"
   ]
  },
  {
   "cell_type": "code",
   "execution_count": 6,
   "metadata": {
    "colab": {
     "base_uri": "https://localhost:8080/"
    },
    "id": "jWhKCzHOFiUz",
    "outputId": "78ff2b24-697b-4f75-af17-3400221017d0"
   },
   "outputs": [
    {
     "data": {
      "text/plain": [
       "Quarter              0\n",
       "Origin               0\n",
       "OriginWac            0\n",
       "Dest                 0\n",
       "DestWac              0\n",
       "Miles                0\n",
       "ContiguousUSA        0\n",
       "NumTicketsOrdered    0\n",
       "AirlineCompany       0\n",
       "PricePerTicket       0\n",
       "dtype: int64"
      ]
     },
     "execution_count": 6,
     "metadata": {},
     "output_type": "execute_result"
    }
   ],
   "source": [
    "flights.isnull().sum()"
   ]
  },
  {
   "cell_type": "code",
   "execution_count": 7,
   "metadata": {
    "id": "bbEyQjBPVxXk"
   },
   "outputs": [],
   "source": [
    "# import seaborn as sns\n",
    "# sns.pairplot(flights)"
   ]
  },
  {
   "cell_type": "code",
   "execution_count": 8,
   "metadata": {
    "id": "bgc_HNhzFgxM"
   },
   "outputs": [],
   "source": [
    "# import seaborn as sns\n",
    "# x = flights['NumTicketsOrdered']\n",
    "# sns.distplot(x)"
   ]
  },
  {
   "cell_type": "code",
   "execution_count": 9,
   "metadata": {
    "colab": {
     "base_uri": "https://localhost:8080/"
    },
    "id": "RkG_gtmCJzFZ",
    "outputId": "b45bf12b-0cad-4657-b5c4-aa03af73514a"
   },
   "outputs": [
    {
     "data": {
      "text/plain": [
       "WN    2277460\n",
       "AA    1283771\n",
       "DL    1202566\n",
       "UA     931693\n",
       "B6     567637\n",
       "G4     376406\n",
       "AS     376154\n",
       "NK     252623\n",
       "F9     159376\n",
       "HA     114212\n",
       "SY      40774\n",
       "MX      17113\n",
       "3M      10020\n",
       "XP       3838\n",
       "Name: AirlineCompany, dtype: int64"
      ]
     },
     "execution_count": 9,
     "metadata": {},
     "output_type": "execute_result"
    }
   ],
   "source": [
    "flights['AirlineCompany'].value_counts()"
   ]
  },
  {
   "cell_type": "code",
   "execution_count": 10,
   "metadata": {
    "id": "uTnJ4zm1reQO"
   },
   "outputs": [],
   "source": [
    "# import seaborn as sns\n",
    "# y = flights['PricePerTicket']\n",
    "# sns.distplot(y)"
   ]
  },
  {
   "cell_type": "code",
   "execution_count": 11,
   "metadata": {
    "colab": {
     "base_uri": "https://localhost:8080/"
    },
    "id": "oeNsC7mwrmfQ",
    "outputId": "0ae1d66d-5b8b-4259-8adc-862f322b1786"
   },
   "outputs": [
    {
     "data": {
      "text/plain": [
       "count    7.613643e+06\n",
       "mean     2.121785e+02\n",
       "std      1.391172e+02\n",
       "min      5.000000e+01\n",
       "25%      1.185000e+02\n",
       "50%      1.765000e+02\n",
       "75%      2.620000e+02\n",
       "max      1.000000e+03\n",
       "Name: PricePerTicket, dtype: float64"
      ]
     },
     "execution_count": 11,
     "metadata": {},
     "output_type": "execute_result"
    }
   ],
   "source": [
    "flights['PricePerTicket'].describe()"
   ]
  },
  {
   "cell_type": "code",
   "execution_count": 12,
   "metadata": {
    "id": "qWpTuOQudPMp"
   },
   "outputs": [],
   "source": [
    "# import matplotlib.pyplot as plt\n",
    "# plt.scatter(flights['PricePerTicket'], flights['Miles'])"
   ]
  },
  {
   "cell_type": "code",
   "execution_count": 13,
   "metadata": {
    "id": "aI7elrgNL5ps"
   },
   "outputs": [],
   "source": [
    "# import seaborn as sns\n",
    "# sns.regplot(x=\"Miles\", y=\"PricePerTicket\", data = flights)"
   ]
  },
  {
   "cell_type": "code",
   "execution_count": 14,
   "metadata": {
    "colab": {
     "base_uri": "https://localhost:8080/"
    },
    "id": "DETNpMeYdw5R",
    "outputId": "0c98829d-cc77-4226-f90a-8955294fb7d1"
   },
   "outputs": [
    {
     "name": "stdout",
     "output_type": "stream",
     "text": [
      "Requirement already satisfied: category_encoders in /Users/prathamesh/opt/anaconda3/lib/python3.9/site-packages (2.6.0)\n",
      "Requirement already satisfied: pandas>=1.0.5 in /Users/prathamesh/opt/anaconda3/lib/python3.9/site-packages (from category_encoders) (1.4.4)\n",
      "Requirement already satisfied: numpy>=1.14.0 in /Users/prathamesh/opt/anaconda3/lib/python3.9/site-packages (from category_encoders) (1.21.5)\n",
      "Requirement already satisfied: scikit-learn>=0.20.0 in /Users/prathamesh/opt/anaconda3/lib/python3.9/site-packages (from category_encoders) (1.0.2)\n",
      "Requirement already satisfied: statsmodels>=0.9.0 in /Users/prathamesh/opt/anaconda3/lib/python3.9/site-packages (from category_encoders) (0.13.2)\n",
      "Requirement already satisfied: patsy>=0.5.1 in /Users/prathamesh/opt/anaconda3/lib/python3.9/site-packages (from category_encoders) (0.5.2)\n",
      "Requirement already satisfied: scipy>=1.0.0 in /Users/prathamesh/opt/anaconda3/lib/python3.9/site-packages (from category_encoders) (1.9.1)\n",
      "Requirement already satisfied: python-dateutil>=2.8.1 in /Users/prathamesh/opt/anaconda3/lib/python3.9/site-packages (from pandas>=1.0.5->category_encoders) (2.8.2)\n",
      "Requirement already satisfied: pytz>=2020.1 in /Users/prathamesh/opt/anaconda3/lib/python3.9/site-packages (from pandas>=1.0.5->category_encoders) (2022.1)\n",
      "Requirement already satisfied: six in /Users/prathamesh/opt/anaconda3/lib/python3.9/site-packages (from patsy>=0.5.1->category_encoders) (1.16.0)\n",
      "Requirement already satisfied: joblib>=0.11 in /Users/prathamesh/opt/anaconda3/lib/python3.9/site-packages (from scikit-learn>=0.20.0->category_encoders) (1.1.0)\n",
      "Requirement already satisfied: threadpoolctl>=2.0.0 in /Users/prathamesh/opt/anaconda3/lib/python3.9/site-packages (from scikit-learn>=0.20.0->category_encoders) (2.2.0)\n",
      "Requirement already satisfied: packaging>=21.3 in /Users/prathamesh/opt/anaconda3/lib/python3.9/site-packages (from statsmodels>=0.9.0->category_encoders) (21.3)\n",
      "Requirement already satisfied: pyparsing!=3.0.5,>=2.0.2 in /Users/prathamesh/opt/anaconda3/lib/python3.9/site-packages (from packaging>=21.3->statsmodels>=0.9.0->category_encoders) (3.0.9)\n"
     ]
    }
   ],
   "source": [
    "!pip install category_encoders"
   ]
  },
  {
   "cell_type": "code",
   "execution_count": 15,
   "metadata": {
    "colab": {
     "base_uri": "https://localhost:8080/",
     "height": 424
    },
    "id": "8MJIVGG9dxBL",
    "outputId": "7e58e113-9558-4764-8781-7360a34bbc30"
   },
   "outputs": [
    {
     "data": {
      "text/html": [
       "<div>\n",
       "<style scoped>\n",
       "    .dataframe tbody tr th:only-of-type {\n",
       "        vertical-align: middle;\n",
       "    }\n",
       "\n",
       "    .dataframe tbody tr th {\n",
       "        vertical-align: top;\n",
       "    }\n",
       "\n",
       "    .dataframe thead th {\n",
       "        text-align: right;\n",
       "    }\n",
       "</style>\n",
       "<table border=\"1\" class=\"dataframe\">\n",
       "  <thead>\n",
       "    <tr style=\"text-align: right;\">\n",
       "      <th></th>\n",
       "      <th>Quarter</th>\n",
       "      <th>Origin</th>\n",
       "      <th>Dest</th>\n",
       "      <th>Miles</th>\n",
       "      <th>NumTicketsOrdered</th>\n",
       "      <th>AirlineCompany</th>\n",
       "      <th>PricePerTicket</th>\n",
       "    </tr>\n",
       "  </thead>\n",
       "  <tbody>\n",
       "    <tr>\n",
       "      <th>0</th>\n",
       "      <td>1</td>\n",
       "      <td>PHL</td>\n",
       "      <td>LAX</td>\n",
       "      <td>2402.0</td>\n",
       "      <td>3.0</td>\n",
       "      <td>AA</td>\n",
       "      <td>64.00</td>\n",
       "    </tr>\n",
       "    <tr>\n",
       "      <th>1</th>\n",
       "      <td>1</td>\n",
       "      <td>LAX</td>\n",
       "      <td>PHL</td>\n",
       "      <td>2402.0</td>\n",
       "      <td>2.0</td>\n",
       "      <td>AA</td>\n",
       "      <td>68.50</td>\n",
       "    </tr>\n",
       "    <tr>\n",
       "      <th>2</th>\n",
       "      <td>1</td>\n",
       "      <td>PHL</td>\n",
       "      <td>LAX</td>\n",
       "      <td>2402.0</td>\n",
       "      <td>2.0</td>\n",
       "      <td>AA</td>\n",
       "      <td>68.50</td>\n",
       "    </tr>\n",
       "    <tr>\n",
       "      <th>3</th>\n",
       "      <td>1</td>\n",
       "      <td>LAX</td>\n",
       "      <td>PHL</td>\n",
       "      <td>2402.0</td>\n",
       "      <td>3.0</td>\n",
       "      <td>AA</td>\n",
       "      <td>70.50</td>\n",
       "    </tr>\n",
       "    <tr>\n",
       "      <th>4</th>\n",
       "      <td>1</td>\n",
       "      <td>PHL</td>\n",
       "      <td>LAX</td>\n",
       "      <td>2402.0</td>\n",
       "      <td>3.0</td>\n",
       "      <td>AA</td>\n",
       "      <td>70.50</td>\n",
       "    </tr>\n",
       "    <tr>\n",
       "      <th>...</th>\n",
       "      <td>...</td>\n",
       "      <td>...</td>\n",
       "      <td>...</td>\n",
       "      <td>...</td>\n",
       "      <td>...</td>\n",
       "      <td>...</td>\n",
       "      <td>...</td>\n",
       "    </tr>\n",
       "    <tr>\n",
       "      <th>7613638</th>\n",
       "      <td>4</td>\n",
       "      <td>JFK</td>\n",
       "      <td>SFO</td>\n",
       "      <td>2586.0</td>\n",
       "      <td>1.0</td>\n",
       "      <td>AS</td>\n",
       "      <td>119.59</td>\n",
       "    </tr>\n",
       "    <tr>\n",
       "      <th>7613639</th>\n",
       "      <td>4</td>\n",
       "      <td>JFK</td>\n",
       "      <td>SFO</td>\n",
       "      <td>2586.0</td>\n",
       "      <td>1.0</td>\n",
       "      <td>AS</td>\n",
       "      <td>120.50</td>\n",
       "    </tr>\n",
       "    <tr>\n",
       "      <th>7613640</th>\n",
       "      <td>4</td>\n",
       "      <td>JFK</td>\n",
       "      <td>SFO</td>\n",
       "      <td>2586.0</td>\n",
       "      <td>1.0</td>\n",
       "      <td>AS</td>\n",
       "      <td>133.69</td>\n",
       "    </tr>\n",
       "    <tr>\n",
       "      <th>7613641</th>\n",
       "      <td>4</td>\n",
       "      <td>JFK</td>\n",
       "      <td>SFO</td>\n",
       "      <td>2586.0</td>\n",
       "      <td>1.0</td>\n",
       "      <td>AS</td>\n",
       "      <td>196.89</td>\n",
       "    </tr>\n",
       "    <tr>\n",
       "      <th>7613642</th>\n",
       "      <td>4</td>\n",
       "      <td>JFK</td>\n",
       "      <td>SFO</td>\n",
       "      <td>2586.0</td>\n",
       "      <td>1.0</td>\n",
       "      <td>AS</td>\n",
       "      <td>654.80</td>\n",
       "    </tr>\n",
       "  </tbody>\n",
       "</table>\n",
       "<p>7613643 rows × 7 columns</p>\n",
       "</div>"
      ],
      "text/plain": [
       "         Quarter Origin Dest   Miles  NumTicketsOrdered AirlineCompany  \\\n",
       "0              1    PHL  LAX  2402.0                3.0             AA   \n",
       "1              1    LAX  PHL  2402.0                2.0             AA   \n",
       "2              1    PHL  LAX  2402.0                2.0             AA   \n",
       "3              1    LAX  PHL  2402.0                3.0             AA   \n",
       "4              1    PHL  LAX  2402.0                3.0             AA   \n",
       "...          ...    ...  ...     ...                ...            ...   \n",
       "7613638        4    JFK  SFO  2586.0                1.0             AS   \n",
       "7613639        4    JFK  SFO  2586.0                1.0             AS   \n",
       "7613640        4    JFK  SFO  2586.0                1.0             AS   \n",
       "7613641        4    JFK  SFO  2586.0                1.0             AS   \n",
       "7613642        4    JFK  SFO  2586.0                1.0             AS   \n",
       "\n",
       "         PricePerTicket  \n",
       "0                 64.00  \n",
       "1                 68.50  \n",
       "2                 68.50  \n",
       "3                 70.50  \n",
       "4                 70.50  \n",
       "...                 ...  \n",
       "7613638          119.59  \n",
       "7613639          120.50  \n",
       "7613640          133.69  \n",
       "7613641          196.89  \n",
       "7613642          654.80  \n",
       "\n",
       "[7613643 rows x 7 columns]"
      ]
     },
     "execution_count": 15,
     "metadata": {},
     "output_type": "execute_result"
    }
   ],
   "source": [
    "flights = flights.drop(columns = ['OriginWac', 'DestWac', 'ContiguousUSA'])\n",
    "flights"
   ]
  },
  {
   "cell_type": "code",
   "execution_count": 16,
   "metadata": {
    "colab": {
     "base_uri": "https://localhost:8080/"
    },
    "id": "TtucPmrPdxH-",
    "outputId": "d9bd9f71-ed18-4aa2-8060-c7e7c1179544"
   },
   "outputs": [
    {
     "data": {
      "text/plain": [
       "((2664775, 7), (2664775, 7), (2284093, 7))"
      ]
     },
     "execution_count": 16,
     "metadata": {},
     "output_type": "execute_result"
    }
   ],
   "source": [
    "from sklearn.model_selection import train_test_split\n",
    "\n",
    "train, test = train_test_split(flights, train_size = 0.70, test_size = 0.30, random_state=42)\n",
    "\n",
    "train, val = train_test_split(train, train_size = 0.50, test_size = 0.50, random_state=42)\n",
    "\n",
    "train.shape, val.shape, test.shape"
   ]
  },
  {
   "cell_type": "code",
   "execution_count": 17,
   "metadata": {
    "id": "JBwq_vvleG9R"
   },
   "outputs": [],
   "source": [
    "target = ['PricePerTicket']\n",
    "features = flights.columns.drop(target)\n",
    "\n",
    "x_train = train[features]\n",
    "y_train = train[target]\n",
    "\n",
    "x_val = val[features]\n",
    "y_val = val[target]\n",
    "\n",
    "x_test = test[features]\n",
    "y_test = test[target]"
   ]
  },
  {
   "cell_type": "code",
   "execution_count": 18,
   "metadata": {
    "colab": {
     "base_uri": "https://localhost:8080/"
    },
    "id": "Nuswe3E3eOod",
    "outputId": "ef7aa91b-3eaf-4d15-9a3f-51cf671408b6"
   },
   "outputs": [
    {
     "name": "stderr",
     "output_type": "stream",
     "text": [
      "/Users/prathamesh/opt/anaconda3/lib/python3.9/site-packages/sklearn/pipeline.py:394: DataConversionWarning: A column-vector y was passed when a 1d array was expected. Please change the shape of y to (n_samples,), for example using ravel().\n",
      "  self._final_estimator.fit(Xt, y, **fit_params_last_step)\n"
     ]
    },
    {
     "name": "stdout",
     "output_type": "stream",
     "text": [
      "RandomForest R^2 Score =  0.29457483608435975\n",
      "LinearRegression R² Score =  0.1468268220332768\n",
      "RidgeRegression R² Score =  0.14682682363609034\n",
      "LassoRegression R² Score =  0.14716687642927107\n"
     ]
    }
   ],
   "source": [
    "from sklearn.pipeline import make_pipeline\n",
    "from category_encoders import TargetEncoder\n",
    "from category_encoders import OrdinalEncoder\n",
    "from sklearn.ensemble import RandomForestRegressor\n",
    "from sklearn.linear_model import LinearRegression\n",
    "from sklearn.linear_model import Ridge\n",
    "from sklearn.linear_model import Lasso\n",
    "# import lightgbm as ltb\n",
    "from sklearn.metrics import r2_score\n",
    "\n",
    "#Encode the categoricals\n",
    "encoder = OrdinalEncoder()\n",
    "x_train_encoded = encoder.fit_transform(x_train)\n",
    "x_val_encoded = encoder.fit_transform(x_val)\n",
    "x_test_encoded = encoder.fit_transform(x_test)\n",
    "\n",
    "#RandomForest Regressor\n",
    "pipeline = make_pipeline(\n",
    "    OrdinalEncoder(),\n",
    "    RandomForestRegressor(max_depth=20, n_estimators=20)\n",
    ")\n",
    "pipeline.fit(x_train, y_train)\n",
    "y_pred = pipeline.predict(x_val)\n",
    "print('RandomForest R^2 Score = ', r2_score(y_val, y_pred))\n",
    "\n",
    "\n",
    "# LinearRegression Model\n",
    "model2 = LinearRegression()\n",
    "model2.fit(x_train_encoded, y_train)\n",
    "y_pred2 = model2.predict(x_val_encoded)\n",
    "print('LinearRegression R² Score = ', r2_score(y_val, y_pred2))\n",
    "\n",
    "# RidgeRegression Model\n",
    "model3 = Ridge()\n",
    "model3.fit(x_train_encoded, y_train)\n",
    "y_pred3 = model3.predict(x_val_encoded)\n",
    "print('RidgeRegression R² Score = ', r2_score(y_val, y_pred3))\n",
    "\n",
    "# LassoRegreession Model\n",
    "model4 = Lasso()\n",
    "model4.fit(x_train_encoded, y_train)\n",
    "y_pred4 = model4.predict(x_val_encoded)\n",
    "print('LassoRegression R² Score = ', r2_score(y_val,y_pred4))\n",
    "\n",
    "# #LightGBM Model\n",
    "# model5 = ltb.LGBMRegressor()\n",
    "# model5.fit(x_train_encoded, y_train)\n",
    "# y_pred5 = model5.predict(x_val_encoded)\n",
    "# print('Light GBM R² Score = ', r2_score(y_val,y_pred5))"
   ]
  },
  {
   "cell_type": "code",
   "execution_count": 19,
   "metadata": {
    "id": "O5lCmgRdCCC9"
   },
   "outputs": [],
   "source": [
    "import pickle"
   ]
  },
  {
   "cell_type": "code",
   "execution_count": 20,
   "metadata": {
    "id": "YacCEDBECCNF"
   },
   "outputs": [],
   "source": [
    "pickle.dump(pipeline, open('reg_model.pkl','wb'))"
   ]
  },
  {
   "cell_type": "code",
   "execution_count": 21,
   "metadata": {
    "colab": {
     "base_uri": "https://localhost:8080/"
    },
    "id": "AdJn2-iaCCVs",
    "outputId": "540f5d68-7d6c-45e3-c9c6-9b28bcdbaad5"
   },
   "outputs": [
    {
     "data": {
      "text/plain": [
       "array([149.76836456, 199.4155491 , 246.06079689, ..., 169.37588339,\n",
       "       164.85918826, 193.92818922])"
      ]
     },
     "execution_count": 21,
     "metadata": {},
     "output_type": "execute_result"
    }
   ],
   "source": [
    "pickled_model = pickle.load(open('reg_model.pkl','rb'))\n",
    "pickled_model.predict(x_test)"
   ]
  },
  {
   "cell_type": "code",
   "execution_count": 22,
   "metadata": {},
   "outputs": [
    {
     "data": {
      "text/plain": [
       "array([149.76836456, 199.4155491 , 246.06079689, ..., 169.37588339,\n",
       "       164.85918826, 193.92818922])"
      ]
     },
     "execution_count": 22,
     "metadata": {},
     "output_type": "execute_result"
    }
   ],
   "source": [
    "pickled_model.predict(x_test)\n"
   ]
  },
  {
   "cell_type": "code",
   "execution_count": 23,
   "metadata": {},
   "outputs": [
    {
     "name": "stdout",
     "output_type": "stream",
     "text": [
      "Quarter                  2\n",
      "Origin                 CLT\n",
      "Dest                   ORD\n",
      "Miles                599.0\n",
      "NumTicketsOrdered      2.0\n",
      "AirlineCompany          AA\n",
      "Name: 2378344, dtype: object\n"
     ]
    }
   ],
   "source": [
    "print(x_test.iloc[1])"
   ]
  },
  {
   "cell_type": "code",
   "execution_count": 24,
   "metadata": {},
   "outputs": [],
   "source": [
    "data = {\n",
    "    'Quarter': 2,\n",
    "    'Origin': 'CLT',\n",
    "    'Dest': 'ORD',\n",
    "    'Miles': 599.0,\n",
    "    'NumTicketsOrdered': 2.0,\n",
    "    'AirlineCompany': 'AA'\n",
    "}"
   ]
  },
  {
   "cell_type": "code",
   "execution_count": 25,
   "metadata": {},
   "outputs": [
    {
     "data": {
      "text/html": [
       "<div>\n",
       "<style scoped>\n",
       "    .dataframe tbody tr th:only-of-type {\n",
       "        vertical-align: middle;\n",
       "    }\n",
       "\n",
       "    .dataframe tbody tr th {\n",
       "        vertical-align: top;\n",
       "    }\n",
       "\n",
       "    .dataframe thead th {\n",
       "        text-align: right;\n",
       "    }\n",
       "</style>\n",
       "<table border=\"1\" class=\"dataframe\">\n",
       "  <thead>\n",
       "    <tr style=\"text-align: right;\">\n",
       "      <th></th>\n",
       "      <th>Quarter</th>\n",
       "      <th>Origin</th>\n",
       "      <th>Dest</th>\n",
       "      <th>Miles</th>\n",
       "      <th>NumTicketsOrdered</th>\n",
       "      <th>AirlineCompany</th>\n",
       "    </tr>\n",
       "  </thead>\n",
       "  <tbody>\n",
       "    <tr>\n",
       "      <th>0</th>\n",
       "      <td>2</td>\n",
       "      <td>CLT</td>\n",
       "      <td>ORD</td>\n",
       "      <td>599.0</td>\n",
       "      <td>2.0</td>\n",
       "      <td>AA</td>\n",
       "    </tr>\n",
       "  </tbody>\n",
       "</table>\n",
       "</div>"
      ],
      "text/plain": [
       "   Quarter Origin Dest  Miles  NumTicketsOrdered AirlineCompany\n",
       "0        2    CLT  ORD  599.0                2.0             AA"
      ]
     },
     "execution_count": 25,
     "metadata": {},
     "output_type": "execute_result"
    }
   ],
   "source": [
    "df = pd.DataFrame(data, index=[0])\n",
    "df.head()"
   ]
  },
  {
   "cell_type": "code",
   "execution_count": 26,
   "metadata": {},
   "outputs": [
    {
     "data": {
      "text/plain": [
       "array([199.4155491])"
      ]
     },
     "execution_count": 26,
     "metadata": {},
     "output_type": "execute_result"
    }
   ],
   "source": [
    "pickled_model.predict(df)"
   ]
  },
  {
   "cell_type": "code",
   "execution_count": null,
   "metadata": {},
   "outputs": [],
   "source": []
  },
  {
   "cell_type": "code",
   "execution_count": 27,
   "metadata": {},
   "outputs": [
    {
     "ename": "NameError",
     "evalue": "name 'model' is not defined",
     "output_type": "error",
     "traceback": [
      "\u001b[0;31m---------------------------------------------------------------------------\u001b[0m",
      "\u001b[0;31mNameError\u001b[0m                                 Traceback (most recent call last)",
      "\u001b[0;32m/var/folders/8q/3zgzcf5j6fbfp97d3vlhbt_m0000gn/T/ipykernel_23369/3519661144.py\u001b[0m in \u001b[0;36m<module>\u001b[0;34m\u001b[0m\n\u001b[1;32m      4\u001b[0m \u001b[0;34m\u001b[0m\u001b[0m\n\u001b[1;32m      5\u001b[0m interaction = pdp_interact(\n\u001b[0;32m----> 6\u001b[0;31m     \u001b[0mmodel\u001b[0m\u001b[0;34m=\u001b[0m\u001b[0mmodel\u001b[0m\u001b[0;34m,\u001b[0m\u001b[0;34m\u001b[0m\u001b[0;34m\u001b[0m\u001b[0m\n\u001b[0m\u001b[1;32m      7\u001b[0m     \u001b[0mdataset\u001b[0m\u001b[0;34m=\u001b[0m\u001b[0mdataset\u001b[0m\u001b[0;34m,\u001b[0m\u001b[0;34m\u001b[0m\u001b[0;34m\u001b[0m\u001b[0m\n\u001b[1;32m      8\u001b[0m     \u001b[0mmodel_features\u001b[0m\u001b[0;34m=\u001b[0m\u001b[0mx_val\u001b[0m\u001b[0;34m.\u001b[0m\u001b[0mcolumns\u001b[0m\u001b[0;34m,\u001b[0m\u001b[0;34m\u001b[0m\u001b[0;34m\u001b[0m\u001b[0m\n",
      "\u001b[0;31mNameError\u001b[0m: name 'model' is not defined"
     ]
    }
   ],
   "source": []
  },
  {
   "cell_type": "code",
   "execution_count": null,
   "metadata": {},
   "outputs": [],
   "source": []
  }
 ],
 "metadata": {
  "colab": {
   "provenance": []
  },
  "kernelspec": {
   "display_name": "Python 3 (ipykernel)",
   "language": "python",
   "name": "python3"
  },
  "language_info": {
   "codemirror_mode": {
    "name": "ipython",
    "version": 3
   },
   "file_extension": ".py",
   "mimetype": "text/x-python",
   "name": "python",
   "nbconvert_exporter": "python",
   "pygments_lexer": "ipython3",
   "version": "3.9.13"
  }
 },
 "nbformat": 4,
 "nbformat_minor": 1
}
